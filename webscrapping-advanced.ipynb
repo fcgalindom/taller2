{
 "cells": [
  {
   "cell_type": "markdown",
   "metadata": {},
   "source": [
    "# Web Scraping with lazy load\n",
    "\n",
    "Page to be scraped: El Espectador"
   ]
  },
  {
   "cell_type": "code",
   "execution_count": 15,
   "metadata": {},
   "outputs": [
    {
     "name": "stdout",
     "output_type": "stream",
     "text": [
      "Note: you may need to restart the kernel to use updated packages.\n"
     ]
    },
    {
     "name": "stderr",
     "output_type": "stream",
     "text": [
      "ERROR: Could not find a version that satisfies the requirement webdriver (from versions: none)\n",
      "ERROR: No matching distribution found for webdriver\n",
      "WARNING: You are using pip version 22.0.3; however, version 22.0.4 is available.\n",
      "You should consider upgrading via the 'C:\\Users\\Administrador\\AppData\\Local\\Programs\\Python\\Python310\\python.exe -m pip install --upgrade pip' command.\n"
     ]
    }
   ],
   "source": [
    "pip install webdriver"
   ]
  },
  {
   "cell_type": "code",
   "execution_count": 1,
   "metadata": {},
   "outputs": [],
   "source": [
    "# Importing required libraries\n",
    "\n",
    "import time\n",
    "\n",
    "from bs4 import BeautifulSoup\n",
    "from selenium import webdriver\n",
    "\n",
    "from pymongo import MongoClient\n"
   ]
  },
  {
   "cell_type": "code",
   "execution_count": 2,
   "metadata": {},
   "outputs": [],
   "source": [
    "\n",
    "# Creating a connection to MongoDB\n",
    "client = MongoClient(\"localhost\", 27017)\n",
    "db = client['news']\n",
    "collection = db['elespectador']\n"
   ]
  },
  {
   "cell_type": "code",
   "execution_count": 3,
   "metadata": {},
   "outputs": [],
   "source": [
    "# Base URL of the site to be analyzed\n",
    "SITE_URL = 'https://www.elespectador.com'"
   ]
  },
  {
   "cell_type": "code",
   "execution_count": 4,
   "metadata": {},
   "outputs": [],
   "source": [
    "# Firefox web driver path\n",
    "# Download the driver for you S.O. here: https://github.com/mozilla/geckodriver/releases\n",
    "DRIVER_PATH = './geckodriver.exe'"
   ]
  },
  {
   "cell_type": "code",
   "execution_count": 5,
   "metadata": {},
   "outputs": [
    {
     "name": "stderr",
     "output_type": "stream",
     "text": [
      "C:\\Users\\Administrador\\AppData\\Local\\Temp\\ipykernel_16068\\1910320475.py:2: DeprecationWarning: executable_path has been deprecated, please pass in a Service object\n",
      "  browser = webdriver.Firefox(executable_path = DRIVER_PATH)\n"
     ]
    }
   ],
   "source": [
    "# Creating a new firefox window\n",
    "browser = webdriver.Firefox(executable_path = DRIVER_PATH)"
   ]
  },
  {
   "cell_type": "code",
   "execution_count": 6,
   "metadata": {},
   "outputs": [],
   "source": [
    "def make_request(browser, relative_path):\n",
    "    # Making the request and rendering the browser\n",
    "    browser.get(SITE_URL + relative_path)\n",
    "    \n",
    "    # Simulating vertical scrolling for handling lazy load\n",
    "    check_height = browser.execute_script('return document.body.scrollHeight;')\n",
    "    while True:\n",
    "        browser.execute_script('window.scrollTo(0, document.body.scrollHeight);')\n",
    "        time.sleep(3)\n",
    "        height = browser.execute_script('return document.body.scrollHeight;')\n",
    "        if height == check_height: \n",
    "            break \n",
    "        check_height = height\n",
    "    \n",
    "    # Getting HTML content and passing it to BeautifulSoup for scraping analysis\n",
    "    return BeautifulSoup(browser.page_source, 'html.parser')"
   ]
  },
  {
   "cell_type": "code",
   "execution_count": 96,
   "metadata": {},
   "outputs": [],
   "source": [
    "# Getting HTML content for a particular news listing page\n",
    "soup = make_request(browser, '/archivo/politica/')"
   ]
  },
  {
   "cell_type": "code",
   "execution_count": 7,
   "metadata": {},
   "outputs": [],
   "source": [
    "def urls(browser, data):\n",
    "    soup = make_request(browser, data)\n",
    "    layout = soup.find(class_ = 'Layout-flexAds')\n",
    "    blocks = layout.find_all(class_ = 'Container Block', recursive = True)\n",
    "\n",
    "    print(len(blocks))\n",
    "    print(blocks)\n",
    "    if(len(blocks)  == 2):\n",
    "        cards = blocks[0].find_all(class_ = 'Card_rowCardLeft') + blocks[1].find_all(class_ = 'Card_rowCardLeft')\n",
    "        len(cards)\n",
    "    elif(len(blocks)  == 1):\n",
    "        cards = blocks[0].find_all(class_ = 'Card_rowCardLeft')\n",
    "        len(cards)\n",
    "    \n",
    "    news = []\n",
    "\n",
    "    for card in cards:\n",
    "         news.append({\n",
    "            'title': card.find('h2', class_ = 'Card-Title').find('a').get_text(),\n",
    "            'relative_path': card.find('h2', class_ = 'Card-Title').find('a')['href']\n",
    "         })\n",
    "    for n in news:\n",
    "        # Getting HTML content for each news page\n",
    "        soup = make_request(browser, n['relative_path'])\n",
    "    \n",
    "        # Extracting news metadata\n",
    "        n['datetime'] = soup.find(class_ = 'ArticleHeader-Date').get_text()\n",
    "        n['author'] = soup.find(class_ = 'ACredit-Author').find('a').get_text()\n",
    "        n['summary'] = soup.find(class_ = 'ArticleHeader-Hook').find('div').get_text()\n",
    "    \n",
    "        # Extracting and concatenating news full text\n",
    "        paragraphs = soup.find_all(class_ = 'font--secondary')\n",
    "        n['full_text'] = ' '.join([p.get_text() for p in paragraphs])\n",
    "    news\n",
    "    collection.insert_many(news)\n",
    "\n",
    "    \n",
    "    "
   ]
  },
  {
   "cell_type": "code",
   "execution_count": 8,
   "metadata": {},
   "outputs": [
    {
     "name": "stdout",
     "output_type": "stream",
     "text": [
      "entro\n",
      "/archivo/judicial/20/\n",
      "2\n",
      "[<div class=\"Container Block\"><div class=\"Grid pure-g\"><div class=\"false pure-u-1\"></div><div class=\"Grid pure-g pure-u-1\"><div class=\"false BlockMargin_bottomBorders\"><div class=\"Card Card_rowCardLeft padding-Border\"><div class=\"Card-ImageFrame\"><div class=\"Card-ImageLink\"><a href=\"/judicial/a-mitad-de-la-jornada-electoral-van-20-capturados-y-32-denuncias-de-compra-de-voto/\" rel=\"noreferrer\" target=\"_self\"><picture><source class=\"Card-Image\" media=\"(max-width: 1200px)\" srcset=\"https://www.elespectador.com/resizer/_Z11jVl0ZfYXzeM7wmsj7egWxuI=/180x120/filters:focal(3607x1205:3787x1325):format(jpeg)/cloudfront-us-east-1.images.arcpublishing.com/elespectador/SMFTG5FKUXAB6IM2IYEKPM7QTE.jpg\"/><img alt=\"A mitad de la jornada electoral van 20 capturados y 32 denuncias de compra de voto\" class=\"Card-Image\" src=\"https://www.elespectador.com/resizer/_Z11jVl0ZfYXzeM7wmsj7egWxuI=/180x120/filters:focal(3607x1205:3787x1325):format(jpeg)/cloudfront-us-east-1.images.arcpublishing.com/elespectador/SMFTG5FKUXAB6IM2IYEKPM7QTE.jpg\"/></picture></a></div></div><div class=\"Card-Container\"><h2 class=\"Card-Title Title Title\"><a href=\"/judicial/a-mitad-de-la-jornada-electoral-van-20-capturados-y-32-denuncias-de-compra-de-voto/\" rel=\"noreferrer\" target=\"_self\">A mitad de la jornada electoral van 20 capturados y 32 denuncias de compra de voto</a></h2><div class=\"Card-Hook Hook\"><a href=\"/judicial/a-mitad-de-la-jornada-electoral-van-20-capturados-y-32-denuncias-de-compra-de-voto/\" rel=\"noreferrer\" target=\"_self\">La Fiscalía sigue investigando las razones que llevaron a que se cayera la página de la Registraduría y aún no hay conclusiones.</a></div><div class=\"Card-ContentFooter\"><p class=\"Card-Datetime Datetime\">13 mar. 2022  - 1:09 p. m.</p><span title=\"Guardar artículo\"><div class=\"Bookmark\"><svg bookmarkclassname=\"\" class=\"Card-Icon\" style=\"display: inline-block; stroke: currentcolor; fill: currentcolor;\" text=\"\" viewbox=\"0 0 1024 1024\"><path d=\"M777.596 357.435c-4.054-0.006-8.003-0.442-11.808-1.266l0.368 0.067v480.841l-242.395-146.286-266.708 137.509v-579.76c0.050-40.547 32.915-73.402 73.462-73.435l254.774-0c-0.756-3.436-1.193-7.385-1.2-11.435l-0-0.005c0.006-4.085 0.442-8.064 1.267-11.9l-0.067 0.373h-254.771c-53.322 0-96.549 43.226-96.549 96.549v0 617.326l288.797-149.065 266.24 160.622v-521.509c-3.436 0.755-7.384 1.192-11.434 1.2l-0.006 0z\" fill=\"rgb(20, 20, 20)\"></path><path d=\"M915.28 146.871h-120.773v-120.773c0-0 0-0 0-0 0-9.335-7.551-16.907-16.878-16.94l-0.003-0c-0.020-0-0.044-0-0.068-0-4.631 0-8.821 1.891-11.838 4.943l-0.002 0.002c-3.089 3.034-5.003 7.254-5.003 11.922 0 0.005 0 0.011 0 0.016l-0-0.001v120.861h-120.773c-0.006-0-0.012-0-0.019-0-4.646 0-8.851 1.89-11.888 4.944l-0.001 0.001c-3.055 3.046-4.945 7.259-4.945 11.913 0 0.019 0 0.038 0 0.056l-0-0.003c0.033 9.294 7.558 16.819 16.849 16.852l0.003 0h120.744v120.803c-0 0-0 0-0 0 0 9.335 7.551 16.907 16.878 16.94l0.003 0c0.018 0 0.039 0 0.061 0 4.643 0 8.844-1.89 11.875-4.944l0.001-0.001c3.054-3.037 4.945-7.242 4.945-11.888 0-0.017-0-0.034-0-0.051l0 0.003v-120.891h120.803c0.032 0 0.069 0 0.107 0 4.632 0 8.825-1.879 11.859-4.915l0-0c3.055-3.050 4.944-7.267 4.944-11.925 0-0.004-0-0.009-0-0.013l0 0.001c0-0.021 0-0.046 0-0.070 0-4.643-1.878-8.848-4.916-11.896l0 0c-3.057-3.052-7.276-4.941-11.936-4.944l-0.001-0z\" fill=\"rgb(255, 184, 0)\"></path></svg><div class=\"Bookmark-Text\"></div></div></span></div></div><div class=\"Card-Footer\"></div></div><div class=\"Card Card_rowCardLeft padding-Border\"><div class=\"Card-ImageFrame\"><div class=\"Card-ImageLink\"><a href=\"/judicial/explosiones-en-meta-y-guaviare-dejan-dos-militares-muertos-y-tres-heridos/\" rel=\"noreferrer\" target=\"_self\"><picture><source class=\"Card-Image\" media=\"(max-width: 1200px)\" srcset=\"https://www.elespectador.com/resizer/f81SmSdkHY2-rm-7FLkxKkJWSis=/180x120/filters:format(jpeg)/cloudfront-us-east-1.images.arcpublishing.com/elespectador/RPOU4YE7ABGL5CEQGBN35DBDRE.jpg\"/><img alt=\"Explosiones en Meta y Caquetá dejan dos militares muertos \" class=\"Card-Image\" src=\"https://www.elespectador.com/resizer/f81SmSdkHY2-rm-7FLkxKkJWSis=/180x120/filters:format(jpeg)/cloudfront-us-east-1.images.arcpublishing.com/elespectador/RPOU4YE7ABGL5CEQGBN35DBDRE.jpg\"/></picture></a></div></div><div class=\"Card-Container\"><h2 class=\"Card-Title Title Title\"><a href=\"/judicial/explosiones-en-meta-y-guaviare-dejan-dos-militares-muertos-y-tres-heridos/\" rel=\"noreferrer\" target=\"_self\">Explosiones en Meta y Caquetá dejan dos militares muertos </a></h2><div class=\"Card-Hook Hook\"><a href=\"/judicial/explosiones-en-meta-y-guaviare-dejan-dos-militares-muertos-y-tres-heridos/\" rel=\"noreferrer\" target=\"_self\">El Ejército dio detalles de los hechos y señaló que los heridos ya están siendo atendidos.</a></div><div class=\"Card-ContentFooter\"><p class=\"Card-Datetime Datetime\">13 mar. 2022  - 12:05 p. m.</p><span title=\"Guardar artículo\"><div class=\"Bookmark\"><svg bookmarkclassname=\"\" class=\"Card-Icon\" style=\"display: inline-block; stroke: currentcolor; fill: currentcolor;\" text=\"\" viewbox=\"0 0 1024 1024\"><path d=\"M777.596 357.435c-4.054-0.006-8.003-0.442-11.808-1.266l0.368 0.067v480.841l-242.395-146.286-266.708 137.509v-579.76c0.050-40.547 32.915-73.402 73.462-73.435l254.774-0c-0.756-3.436-1.193-7.385-1.2-11.435l-0-0.005c0.006-4.085 0.442-8.064 1.267-11.9l-0.067 0.373h-254.771c-53.322 0-96.549 43.226-96.549 96.549v0 617.326l288.797-149.065 266.24 160.622v-521.509c-3.436 0.755-7.384 1.192-11.434 1.2l-0.006 0z\" fill=\"rgb(20, 20, 20)\"></path><path d=\"M915.28 146.871h-120.773v-120.773c0-0 0-0 0-0 0-9.335-7.551-16.907-16.878-16.94l-0.003-0c-0.020-0-0.044-0-0.068-0-4.631 0-8.821 1.891-11.838 4.943l-0.002 0.002c-3.089 3.034-5.003 7.254-5.003 11.922 0 0.005 0 0.011 0 0.016l-0-0.001v120.861h-120.773c-0.006-0-0.012-0-0.019-0-4.646 0-8.851 1.89-11.888 4.944l-0.001 0.001c-3.055 3.046-4.945 7.259-4.945 11.913 0 0.019 0 0.038 0 0.056l-0-0.003c0.033 9.294 7.558 16.819 16.849 16.852l0.003 0h120.744v120.803c-0 0-0 0-0 0 0 9.335 7.551 16.907 16.878 16.94l0.003 0c0.018 0 0.039 0 0.061 0 4.643 0 8.844-1.89 11.875-4.944l0.001-0.001c3.054-3.037 4.945-7.242 4.945-11.888 0-0.017-0-0.034-0-0.051l0 0.003v-120.891h120.803c0.032 0 0.069 0 0.107 0 4.632 0 8.825-1.879 11.859-4.915l0-0c3.055-3.050 4.944-7.267 4.944-11.925 0-0.004-0-0.009-0-0.013l0 0.001c0-0.021 0-0.046 0-0.070 0-4.643-1.878-8.848-4.916-11.896l0 0c-3.057-3.052-7.276-4.941-11.936-4.944l-0.001-0z\" fill=\"rgb(255, 184, 0)\"></path></svg><div class=\"Bookmark-Text\"></div></div></span></div></div><div class=\"Card-Footer\"></div></div><div class=\"Card Card_rowCardLeft padding-Border\"><div class=\"Card-ImageFrame\"><div class=\"Card-ImageLink\"><a href=\"/judicial/sin-alteraciones-de-orden-publico-inicio-jornada-electoral/\" rel=\"noreferrer\" target=\"_self\"><picture><source class=\"Card-Image\" media=\"(max-width: 1200px)\" srcset=\"https://www.elespectador.com/resizer/bX5l3VNsqQvPAgW2CXmz01JfgPs=/180x120/filters:format(jpeg)/cloudfront-us-east-1.images.arcpublishing.com/elespectador/ZB4S7CTYV4RZFTWJLMY3PVMTYY.jpg\"/><img alt=\"Sin alteraciones de orden público inició jornada electoral: Ministerio de Defensa\" class=\"Card-Image\" src=\"https://www.elespectador.com/resizer/bX5l3VNsqQvPAgW2CXmz01JfgPs=/180x120/filters:format(jpeg)/cloudfront-us-east-1.images.arcpublishing.com/elespectador/ZB4S7CTYV4RZFTWJLMY3PVMTYY.jpg\"/></picture></a></div></div><div class=\"Card-Container\"><h2 class=\"Card-Title Title Title\"><a href=\"/judicial/sin-alteraciones-de-orden-publico-inicio-jornada-electoral/\" rel=\"noreferrer\" target=\"_self\">Sin alteraciones de orden público inició jornada electoral: Ministerio de Defensa</a></h2><div class=\"Card-Hook Hook\"><a href=\"/judicial/sin-alteraciones-de-orden-publico-inicio-jornada-electoral/\" rel=\"noreferrer\" target=\"_self\">Conozca detalles del parte entregado por el Ministerio de Defensa sobre la jornada electoral.</a></div><div class=\"Card-ContentFooter\"><p class=\"Card-Datetime Datetime\">13 mar. 2022  - 10:50 a. m.</p><span title=\"Guardar artículo\"><div class=\"Bookmark\"><svg bookmarkclassname=\"\" class=\"Card-Icon\" style=\"display: inline-block; stroke: currentcolor; fill: currentcolor;\" text=\"\" viewbox=\"0 0 1024 1024\"><path d=\"M777.596 357.435c-4.054-0.006-8.003-0.442-11.808-1.266l0.368 0.067v480.841l-242.395-146.286-266.708 137.509v-579.76c0.050-40.547 32.915-73.402 73.462-73.435l254.774-0c-0.756-3.436-1.193-7.385-1.2-11.435l-0-0.005c0.006-4.085 0.442-8.064 1.267-11.9l-0.067 0.373h-254.771c-53.322 0-96.549 43.226-96.549 96.549v0 617.326l288.797-149.065 266.24 160.622v-521.509c-3.436 0.755-7.384 1.192-11.434 1.2l-0.006 0z\" fill=\"rgb(20, 20, 20)\"></path><path d=\"M915.28 146.871h-120.773v-120.773c0-0 0-0 0-0 0-9.335-7.551-16.907-16.878-16.94l-0.003-0c-0.020-0-0.044-0-0.068-0-4.631 0-8.821 1.891-11.838 4.943l-0.002 0.002c-3.089 3.034-5.003 7.254-5.003 11.922 0 0.005 0 0.011 0 0.016l-0-0.001v120.861h-120.773c-0.006-0-0.012-0-0.019-0-4.646 0-8.851 1.89-11.888 4.944l-0.001 0.001c-3.055 3.046-4.945 7.259-4.945 11.913 0 0.019 0 0.038 0 0.056l-0-0.003c0.033 9.294 7.558 16.819 16.849 16.852l0.003 0h120.744v120.803c-0 0-0 0-0 0 0 9.335 7.551 16.907 16.878 16.94l0.003 0c0.018 0 0.039 0 0.061 0 4.643 0 8.844-1.89 11.875-4.944l0.001-0.001c3.054-3.037 4.945-7.242 4.945-11.888 0-0.017-0-0.034-0-0.051l0 0.003v-120.891h120.803c0.032 0 0.069 0 0.107 0 4.632 0 8.825-1.879 11.859-4.915l0-0c3.055-3.050 4.944-7.267 4.944-11.925 0-0.004-0-0.009-0-0.013l0 0.001c0-0.021 0-0.046 0-0.070 0-4.643-1.878-8.848-4.916-11.896l0 0c-3.057-3.052-7.276-4.941-11.936-4.944l-0.001-0z\" fill=\"rgb(255, 184, 0)\"></path></svg><div class=\"Bookmark-Text\"></div></div></span></div></div><div class=\"Card-Footer\"></div></div><div class=\"Card Card_rowCardLeft padding-Border\"><div class=\"Card-ImageFrame\"><div class=\"Card-ImageLink\"><a href=\"/judicial/ejercito-desplego-uniformados-en-zonas-de-alto-riesgo-para-garantizar-elecciones/\" rel=\"noreferrer\" target=\"_self\"><picture><source class=\"Card-Image\" media=\"(max-width: 1200px)\" srcset=\"https://www.elespectador.com/resizer/EndbHWhYeSZG8qXLYT0S8F6ioqk=/180x120/filters:format(jpeg)/cloudfront-us-east-1.images.arcpublishing.com/elespectador/OPLXHV2UPJGN7NUP6GWEQGPPBQ.jpg\"/><img alt=\"Ejército desplegó uniformados en zonas de alto riesgo para garantizar elecciones\" class=\"Card-Image\" src=\"https://www.elespectador.com/resizer/EndbHWhYeSZG8qXLYT0S8F6ioqk=/180x120/filters:format(jpeg)/cloudfront-us-east-1.images.arcpublishing.com/elespectador/OPLXHV2UPJGN7NUP6GWEQGPPBQ.jpg\"/></picture></a></div></div><div class=\"Card-Container\"><h2 class=\"Card-Title Title Title\"><a href=\"/judicial/ejercito-desplego-uniformados-en-zonas-de-alto-riesgo-para-garantizar-elecciones/\" rel=\"noreferrer\" target=\"_self\">Ejército desplegó uniformados en zonas de alto riesgo para garantizar elecciones</a></h2><div class=\"Card-Hook Hook\"><a href=\"/judicial/ejercito-desplego-uniformados-en-zonas-de-alto-riesgo-para-garantizar-elecciones/\" rel=\"noreferrer\" target=\"_self\">Conozca detalles del operativo desplegado por el general Zapateiro para garantizar la jornada electoral.</a></div><div class=\"Card-ContentFooter\"><p class=\"Card-Datetime Datetime\">13 mar. 2022  - 9:21 a. m.</p><span title=\"Guardar artículo\"><div class=\"Bookmark\"><svg bookmarkclassname=\"\" class=\"Card-Icon\" style=\"display: inline-block; stroke: currentcolor; fill: currentcolor;\" text=\"\" viewbox=\"0 0 1024 1024\"><path d=\"M777.596 357.435c-4.054-0.006-8.003-0.442-11.808-1.266l0.368 0.067v480.841l-242.395-146.286-266.708 137.509v-579.76c0.050-40.547 32.915-73.402 73.462-73.435l254.774-0c-0.756-3.436-1.193-7.385-1.2-11.435l-0-0.005c0.006-4.085 0.442-8.064 1.267-11.9l-0.067 0.373h-254.771c-53.322 0-96.549 43.226-96.549 96.549v0 617.326l288.797-149.065 266.24 160.622v-521.509c-3.436 0.755-7.384 1.192-11.434 1.2l-0.006 0z\" fill=\"rgb(20, 20, 20)\"></path><path d=\"M915.28 146.871h-120.773v-120.773c0-0 0-0 0-0 0-9.335-7.551-16.907-16.878-16.94l-0.003-0c-0.020-0-0.044-0-0.068-0-4.631 0-8.821 1.891-11.838 4.943l-0.002 0.002c-3.089 3.034-5.003 7.254-5.003 11.922 0 0.005 0 0.011 0 0.016l-0-0.001v120.861h-120.773c-0.006-0-0.012-0-0.019-0-4.646 0-8.851 1.89-11.888 4.944l-0.001 0.001c-3.055 3.046-4.945 7.259-4.945 11.913 0 0.019 0 0.038 0 0.056l-0-0.003c0.033 9.294 7.558 16.819 16.849 16.852l0.003 0h120.744v120.803c-0 0-0 0-0 0 0 9.335 7.551 16.907 16.878 16.94l0.003 0c0.018 0 0.039 0 0.061 0 4.643 0 8.844-1.89 11.875-4.944l0.001-0.001c3.054-3.037 4.945-7.242 4.945-11.888 0-0.017-0-0.034-0-0.051l0 0.003v-120.891h120.803c0.032 0 0.069 0 0.107 0 4.632 0 8.825-1.879 11.859-4.915l0-0c3.055-3.050 4.944-7.267 4.944-11.925 0-0.004-0-0.009-0-0.013l0 0.001c0-0.021 0-0.046 0-0.070 0-4.643-1.878-8.848-4.916-11.896l0 0c-3.057-3.052-7.276-4.941-11.936-4.944l-0.001-0z\" fill=\"rgb(255, 184, 0)\"></path></svg><div class=\"Bookmark-Text\"></div></div></span></div></div><div class=\"Card-Footer\"></div></div><div class=\"Card Card_rowCardLeft padding-Border\"><div class=\"Card-ImageFrame\"><div class=\"Card-ImageLink\"><a href=\"/judicial/el-expediente-de-dos-feminicidios-aberrantes-una-nina-y-su-abuela/\" rel=\"noreferrer\" target=\"_self\"><picture><source class=\"Card-Image\" media=\"(max-width: 1200px)\" srcset=\"https://www.elespectador.com/resizer/ujIcZ8zTwdjycGEQoaNS9HAAoxo=/180x120/filters:format(jpeg)/cloudfront-us-east-1.images.arcpublishing.com/elespectador/4IZOT4FQNVCJ5O24IPJL76UR64.jpg\"/><img alt=\"El expediente de dos feminicidios aberrantes: una niña y su abuela\" class=\"Card-Image\" src=\"https://www.elespectador.com/resizer/ujIcZ8zTwdjycGEQoaNS9HAAoxo=/180x120/filters:format(jpeg)/cloudfront-us-east-1.images.arcpublishing.com/elespectador/4IZOT4FQNVCJ5O24IPJL76UR64.jpg\"/></picture></a></div></div><div class=\"Card-Container\"><h4 class=\"Card-Section Section\"><div class=\"Card-ExclusiveContainer\"><label>Prémium</label></div></h4><h2 class=\"Card-Title Title Title\"><a href=\"/judicial/el-expediente-de-dos-feminicidios-aberrantes-una-nina-y-su-abuela/\" rel=\"noreferrer\" target=\"_self\">El expediente de dos feminicidios aberrantes: una niña y su abuela</a></h2><div class=\"Card-Hook Hook\"><a href=\"/judicial/el-expediente-de-dos-feminicidios-aberrantes-una-nina-y-su-abuela/\" rel=\"noreferrer\" target=\"_self\">La niña de 9 años fue brutalmente violada y estrangulada y su abuela luchó infructuosamente. El juez acaba de condenar a 45 años...</a></div><div class=\"Card-ContentFooter\"><p class=\"Card-Datetime Datetime\">12 mar. 2022  - 9:00 p. m.</p><span title=\"Guardar artículo\"><div class=\"Bookmark\"><svg bookmarkclassname=\"\" class=\"Card-Icon\" style=\"display: inline-block; stroke: currentcolor; fill: currentcolor;\" text=\"\" viewbox=\"0 0 1024 1024\"><path d=\"M777.596 357.435c-4.054-0.006-8.003-0.442-11.808-1.266l0.368 0.067v480.841l-242.395-146.286-266.708 137.509v-579.76c0.050-40.547 32.915-73.402 73.462-73.435l254.774-0c-0.756-3.436-1.193-7.385-1.2-11.435l-0-0.005c0.006-4.085 0.442-8.064 1.267-11.9l-0.067 0.373h-254.771c-53.322 0-96.549 43.226-96.549 96.549v0 617.326l288.797-149.065 266.24 160.622v-521.509c-3.436 0.755-7.384 1.192-11.434 1.2l-0.006 0z\" fill=\"rgb(20, 20, 20)\"></path><path d=\"M915.28 146.871h-120.773v-120.773c0-0 0-0 0-0 0-9.335-7.551-16.907-16.878-16.94l-0.003-0c-0.020-0-0.044-0-0.068-0-4.631 0-8.821 1.891-11.838 4.943l-0.002 0.002c-3.089 3.034-5.003 7.254-5.003 11.922 0 0.005 0 0.011 0 0.016l-0-0.001v120.861h-120.773c-0.006-0-0.012-0-0.019-0-4.646 0-8.851 1.89-11.888 4.944l-0.001 0.001c-3.055 3.046-4.945 7.259-4.945 11.913 0 0.019 0 0.038 0 0.056l-0-0.003c0.033 9.294 7.558 16.819 16.849 16.852l0.003 0h120.744v120.803c-0 0-0 0-0 0 0 9.335 7.551 16.907 16.878 16.94l0.003 0c0.018 0 0.039 0 0.061 0 4.643 0 8.844-1.89 11.875-4.944l0.001-0.001c3.054-3.037 4.945-7.242 4.945-11.888 0-0.017-0-0.034-0-0.051l0 0.003v-120.891h120.803c0.032 0 0.069 0 0.107 0 4.632 0 8.825-1.879 11.859-4.915l0-0c3.055-3.050 4.944-7.267 4.944-11.925 0-0.004-0-0.009-0-0.013l0 0.001c0-0.021 0-0.046 0-0.070 0-4.643-1.878-8.848-4.916-11.896l0 0c-3.057-3.052-7.276-4.941-11.936-4.944l-0.001-0z\" fill=\"rgb(255, 184, 0)\"></path></svg><div class=\"Bookmark-Text\"></div></div></span></div></div><div class=\"Card-Footer\"></div></div><div class=\"Card Card_rowCardLeft padding-Border\"><div class=\"Card-ImageFrame\"><div class=\"Card-ImageLink\"><a href=\"/judicial/wilmer-guerrero-candidato-al-congreso-quedo-en-libertad/\" rel=\"noreferrer\" target=\"_self\"><picture><source class=\"Card-Image\" media=\"(max-width: 1200px)\" srcset=\"https://www.elespectador.com/resizer/NhedPcsdHR6w9_c8NYDFLBr5NBs=/180x120/filters:format(jpeg)/cloudfront-us-east-1.images.arcpublishing.com/elespectador/JRYHLHLFSVG77JPY4Z5ST7PBCI.jpg\"/><img alt=\"Wilmer Guerrero, candidato a la Cámara de Representantes, quedó en libertad\" class=\"Card-Image\" src=\"https://www.elespectador.com/resizer/NhedPcsdHR6w9_c8NYDFLBr5NBs=/180x120/filters:format(jpeg)/cloudfront-us-east-1.images.arcpublishing.com/elespectador/JRYHLHLFSVG77JPY4Z5ST7PBCI.jpg\"/></picture></a></div></div><div class=\"Card-Container\"><h2 class=\"Card-Title Title Title\"><a href=\"/judicial/wilmer-guerrero-candidato-al-congreso-quedo-en-libertad/\" rel=\"noreferrer\" target=\"_self\">Wilmer Guerrero, candidato a la Cámara de Representantes, quedó en libertad</a></h2><div class=\"Card-Hook Hook\"><a href=\"/judicial/wilmer-guerrero-candidato-al-congreso-quedo-en-libertad/\" rel=\"noreferrer\" target=\"_self\">La defensa del candidato</a></div><div class=\"Card-ContentFooter\"><p class=\"Card-Datetime Datetime\">12 mar. 2022  - 8:51 p. m.</p><span title=\"Guardar artículo\"><div class=\"Bookmark\"><svg bookmarkclassname=\"\" class=\"Card-Icon\" style=\"display: inline-block; stroke: currentcolor; fill: currentcolor;\" text=\"\" viewbox=\"0 0 1024 1024\"><path d=\"M777.596 357.435c-4.054-0.006-8.003-0.442-11.808-1.266l0.368 0.067v480.841l-242.395-146.286-266.708 137.509v-579.76c0.050-40.547 32.915-73.402 73.462-73.435l254.774-0c-0.756-3.436-1.193-7.385-1.2-11.435l-0-0.005c0.006-4.085 0.442-8.064 1.267-11.9l-0.067 0.373h-254.771c-53.322 0-96.549 43.226-96.549 96.549v0 617.326l288.797-149.065 266.24 160.622v-521.509c-3.436 0.755-7.384 1.192-11.434 1.2l-0.006 0z\" fill=\"rgb(20, 20, 20)\"></path><path d=\"M915.28 146.871h-120.773v-120.773c0-0 0-0 0-0 0-9.335-7.551-16.907-16.878-16.94l-0.003-0c-0.020-0-0.044-0-0.068-0-4.631 0-8.821 1.891-11.838 4.943l-0.002 0.002c-3.089 3.034-5.003 7.254-5.003 11.922 0 0.005 0 0.011 0 0.016l-0-0.001v120.861h-120.773c-0.006-0-0.012-0-0.019-0-4.646 0-8.851 1.89-11.888 4.944l-0.001 0.001c-3.055 3.046-4.945 7.259-4.945 11.913 0 0.019 0 0.038 0 0.056l-0-0.003c0.033 9.294 7.558 16.819 16.849 16.852l0.003 0h120.744v120.803c-0 0-0 0-0 0 0 9.335 7.551 16.907 16.878 16.94l0.003 0c0.018 0 0.039 0 0.061 0 4.643 0 8.844-1.89 11.875-4.944l0.001-0.001c3.054-3.037 4.945-7.242 4.945-11.888 0-0.017-0-0.034-0-0.051l0 0.003v-120.891h120.803c0.032 0 0.069 0 0.107 0 4.632 0 8.825-1.879 11.859-4.915l0-0c3.055-3.050 4.944-7.267 4.944-11.925 0-0.004-0-0.009-0-0.013l0 0.001c0-0.021 0-0.046 0-0.070 0-4.643-1.878-8.848-4.916-11.896l0 0c-3.057-3.052-7.276-4.941-11.936-4.944l-0.001-0z\" fill=\"rgb(255, 184, 0)\"></path></svg><div class=\"Bookmark-Text\"></div></div></span></div></div><div class=\"Card-Footer\"></div></div></div></div></div><div class=\"\"></div></div>, <div class=\"Container Block\"><div class=\"Grid pure-g\"><div class=\"false pure-u-1\"></div><div class=\"Grid pure-g pure-u-1\"><div class=\"false BlockMargin_bottomBorders\"><div class=\"Card Card_rowCardLeft padding-Border\"><div class=\"Card-ImageFrame\"><div class=\"Card-ImageLink\"><a href=\"/judicial/jep-advierte-que-gobierno-no-estaria-cumpliendo-acuerdo-con-la-fiscalia-de-la-cpi/\" rel=\"noreferrer\" target=\"_self\"><picture><source class=\"Card-Image\" media=\"(max-width: 1200px)\" srcset=\"https://www.elespectador.com/resizer/UNHVEpI2t_okJHeY5wtXgEvOh-M=/180x120/filters:format(jpeg)/cloudfront-us-east-1.images.arcpublishing.com/elespectador/FZORWY2XXNCAVKARMF2M57BQEA.jpg\"/><img alt=\"JEP advierte que gobierno no estaría cumpliendo acuerdo con la fiscalía de la CPI\" class=\"Card-Image\" src=\"https://www.elespectador.com/resizer/UNHVEpI2t_okJHeY5wtXgEvOh-M=/180x120/filters:format(jpeg)/cloudfront-us-east-1.images.arcpublishing.com/elespectador/FZORWY2XXNCAVKARMF2M57BQEA.jpg\"/></picture></a></div></div><div class=\"Card-Container\"><h4 class=\"Card-Section Section\"><div class=\"Card-ExclusiveContainer\"><label>Prémium</label></div></h4><h2 class=\"Card-Title Title Title\"><a href=\"/judicial/jep-advierte-que-gobierno-no-estaria-cumpliendo-acuerdo-con-la-fiscalia-de-la-cpi/\" rel=\"noreferrer\" target=\"_self\">JEP advierte que gobierno no estaría cumpliendo acuerdo con la fiscalía de la CPI</a></h2><div class=\"Card-Hook Hook\"><a href=\"/judicial/jep-advierte-que-gobierno-no-estaria-cumpliendo-acuerdo-con-la-fiscalia-de-la-cpi/\" rel=\"noreferrer\" target=\"_self\">La JEP decretó medidas cautelares sobre las declaraciones que ha dado \"Otoniel\". Piden explicaciones y garantías para que pueda...</a></div><div class=\"Card-ContentFooter\"><p class=\"Card-Datetime Datetime\">12 mar. 2022  - 11:07 a. m.</p><span title=\"Guardar artículo\"><div class=\"Bookmark\"><svg bookmarkclassname=\"\" class=\"Card-Icon\" style=\"display: inline-block; stroke: currentcolor; fill: currentcolor;\" text=\"\" viewbox=\"0 0 1024 1024\"><path d=\"M777.596 357.435c-4.054-0.006-8.003-0.442-11.808-1.266l0.368 0.067v480.841l-242.395-146.286-266.708 137.509v-579.76c0.050-40.547 32.915-73.402 73.462-73.435l254.774-0c-0.756-3.436-1.193-7.385-1.2-11.435l-0-0.005c0.006-4.085 0.442-8.064 1.267-11.9l-0.067 0.373h-254.771c-53.322 0-96.549 43.226-96.549 96.549v0 617.326l288.797-149.065 266.24 160.622v-521.509c-3.436 0.755-7.384 1.192-11.434 1.2l-0.006 0z\" fill=\"rgb(20, 20, 20)\"></path><path d=\"M915.28 146.871h-120.773v-120.773c0-0 0-0 0-0 0-9.335-7.551-16.907-16.878-16.94l-0.003-0c-0.020-0-0.044-0-0.068-0-4.631 0-8.821 1.891-11.838 4.943l-0.002 0.002c-3.089 3.034-5.003 7.254-5.003 11.922 0 0.005 0 0.011 0 0.016l-0-0.001v120.861h-120.773c-0.006-0-0.012-0-0.019-0-4.646 0-8.851 1.89-11.888 4.944l-0.001 0.001c-3.055 3.046-4.945 7.259-4.945 11.913 0 0.019 0 0.038 0 0.056l-0-0.003c0.033 9.294 7.558 16.819 16.849 16.852l0.003 0h120.744v120.803c-0 0-0 0-0 0 0 9.335 7.551 16.907 16.878 16.94l0.003 0c0.018 0 0.039 0 0.061 0 4.643 0 8.844-1.89 11.875-4.944l0.001-0.001c3.054-3.037 4.945-7.242 4.945-11.888 0-0.017-0-0.034-0-0.051l0 0.003v-120.891h120.803c0.032 0 0.069 0 0.107 0 4.632 0 8.825-1.879 11.859-4.915l0-0c3.055-3.050 4.944-7.267 4.944-11.925 0-0.004-0-0.009-0-0.013l0 0.001c0-0.021 0-0.046 0-0.070 0-4.643-1.878-8.848-4.916-11.896l0 0c-3.057-3.052-7.276-4.941-11.936-4.944l-0.001-0z\" fill=\"rgb(255, 184, 0)\"></path></svg><div class=\"Bookmark-Text\"></div></div></span></div></div><div class=\"Card-Footer\"></div></div><div class=\"Card Card_rowCardLeft padding-Border\"><div class=\"Card-ImageFrame\"><div class=\"Card-ImageLink\"><a href=\"/judicial/mario-castano-y-wilmer-guerrero-escandalos-judiciales-a-boca-de-urna/\" rel=\"noreferrer\" target=\"_self\"><picture><source class=\"Card-Image\" media=\"(max-width: 1200px)\" srcset=\"https://www.elespectador.com/resizer/6-NNI0McrLlF1Ogm1EDrHYug60U=/180x120/filters:format(jpeg)/cloudfront-us-east-1.images.arcpublishing.com/elespectador/5HSQEM32HBAI3BVLCCVOE7GDGA.jpg\"/><img alt=\"Mario Castaño y Wilmer Guerrero: escándalos judiciales a boca de urna\" class=\"Card-Image\" src=\"https://www.elespectador.com/resizer/6-NNI0McrLlF1Ogm1EDrHYug60U=/180x120/filters:format(jpeg)/cloudfront-us-east-1.images.arcpublishing.com/elespectador/5HSQEM32HBAI3BVLCCVOE7GDGA.jpg\"/></picture></a></div></div><div class=\"Card-Container\"><h2 class=\"Card-Title Title Title\"><a href=\"/judicial/mario-castano-y-wilmer-guerrero-escandalos-judiciales-a-boca-de-urna/\" rel=\"noreferrer\" target=\"_self\">Mario Castaño y Wilmer Guerrero: escándalos judiciales a boca de urna</a></h2><div class=\"Card-Hook Hook\"><a href=\"/judicial/mario-castano-y-wilmer-guerrero-escandalos-judiciales-a-boca-de-urna/\" rel=\"noreferrer\" target=\"_self\">Los dos candidatos al Congreso, Castaño al Senado y Guerrero a la Cámara, están inmersos en procesos judiciales cuando faltan...</a></div><div class=\"Card-ContentFooter\"><p class=\"Card-Datetime Datetime\">11 mar. 2022  - 9:00 p. m.</p><span title=\"Guardar artículo\"><div class=\"Bookmark\"><svg bookmarkclassname=\"\" class=\"Card-Icon\" style=\"display: inline-block; stroke: currentcolor; fill: currentcolor;\" text=\"\" viewbox=\"0 0 1024 1024\"><path d=\"M777.596 357.435c-4.054-0.006-8.003-0.442-11.808-1.266l0.368 0.067v480.841l-242.395-146.286-266.708 137.509v-579.76c0.050-40.547 32.915-73.402 73.462-73.435l254.774-0c-0.756-3.436-1.193-7.385-1.2-11.435l-0-0.005c0.006-4.085 0.442-8.064 1.267-11.9l-0.067 0.373h-254.771c-53.322 0-96.549 43.226-96.549 96.549v0 617.326l288.797-149.065 266.24 160.622v-521.509c-3.436 0.755-7.384 1.192-11.434 1.2l-0.006 0z\" fill=\"rgb(20, 20, 20)\"></path><path d=\"M915.28 146.871h-120.773v-120.773c0-0 0-0 0-0 0-9.335-7.551-16.907-16.878-16.94l-0.003-0c-0.020-0-0.044-0-0.068-0-4.631 0-8.821 1.891-11.838 4.943l-0.002 0.002c-3.089 3.034-5.003 7.254-5.003 11.922 0 0.005 0 0.011 0 0.016l-0-0.001v120.861h-120.773c-0.006-0-0.012-0-0.019-0-4.646 0-8.851 1.89-11.888 4.944l-0.001 0.001c-3.055 3.046-4.945 7.259-4.945 11.913 0 0.019 0 0.038 0 0.056l-0-0.003c0.033 9.294 7.558 16.819 16.849 16.852l0.003 0h120.744v120.803c-0 0-0 0-0 0 0 9.335 7.551 16.907 16.878 16.94l0.003 0c0.018 0 0.039 0 0.061 0 4.643 0 8.844-1.89 11.875-4.944l0.001-0.001c3.054-3.037 4.945-7.242 4.945-11.888 0-0.017-0-0.034-0-0.051l0 0.003v-120.891h120.803c0.032 0 0.069 0 0.107 0 4.632 0 8.825-1.879 11.859-4.915l0-0c3.055-3.050 4.944-7.267 4.944-11.925 0-0.004-0-0.009-0-0.013l0 0.001c0-0.021 0-0.046 0-0.070 0-4.643-1.878-8.848-4.916-11.896l0 0c-3.057-3.052-7.276-4.941-11.936-4.944l-0.001-0z\" fill=\"rgb(255, 184, 0)\"></path></svg><div class=\"Bookmark-Text\"></div></div></span></div></div><div class=\"Card-Footer\"></div></div><div class=\"Card Card_rowCardLeft padding-Border\"><div class=\"Card-ImageFrame\"><div class=\"Card-ImageLink\"><a href=\"/judicial/capturan-a-alcalde-de-galeras-sucre-por-irregularidades-en-entregas-de-alimentos/\" rel=\"noreferrer\" target=\"_self\"><picture><source class=\"Card-Image\" media=\"(max-width: 1200px)\" srcset=\"https://www.elespectador.com/resizer/6DWA2yvZcmZGqy1InJZ54-FeBP0=/180x120/filters:format(jpeg)/cloudfront-us-east-1.images.arcpublishing.com/elespectador/KNBR6AODD5FXNN2ROYXC3NWOIE.jpg\"/><img alt=\"Capturan a alcalde de Galeras (Sucre) por irregularidades en entregas de alimentos\" class=\"Card-Image\" src=\"https://www.elespectador.com/resizer/6DWA2yvZcmZGqy1InJZ54-FeBP0=/180x120/filters:format(jpeg)/cloudfront-us-east-1.images.arcpublishing.com/elespectador/KNBR6AODD5FXNN2ROYXC3NWOIE.jpg\"/></picture></a></div></div><div class=\"Card-Container\"><h2 class=\"Card-Title Title Title\"><a href=\"/judicial/capturan-a-alcalde-de-galeras-sucre-por-irregularidades-en-entregas-de-alimentos/\" rel=\"noreferrer\" target=\"_self\">Capturan a alcalde de Galeras (Sucre) por irregularidades en entregas de alimentos</a></h2><div class=\"Card-Hook Hook\"><a href=\"/judicial/capturan-a-alcalde-de-galeras-sucre-por-irregularidades-en-entregas-de-alimentos/\" rel=\"noreferrer\" target=\"_self\">Según las autoridades, el mandatario y otros funcionarios públicos habrían causado un detrimento patrimonial de más de $200...</a></div><div class=\"Card-ContentFooter\"><p class=\"Card-Datetime Datetime\">11 mar. 2022  - 7:30 p. m.</p><span title=\"Guardar artículo\"><div class=\"Bookmark\"><svg bookmarkclassname=\"\" class=\"Card-Icon\" style=\"display: inline-block; stroke: currentcolor; fill: currentcolor;\" text=\"\" viewbox=\"0 0 1024 1024\"><path d=\"M777.596 357.435c-4.054-0.006-8.003-0.442-11.808-1.266l0.368 0.067v480.841l-242.395-146.286-266.708 137.509v-579.76c0.050-40.547 32.915-73.402 73.462-73.435l254.774-0c-0.756-3.436-1.193-7.385-1.2-11.435l-0-0.005c0.006-4.085 0.442-8.064 1.267-11.9l-0.067 0.373h-254.771c-53.322 0-96.549 43.226-96.549 96.549v0 617.326l288.797-149.065 266.24 160.622v-521.509c-3.436 0.755-7.384 1.192-11.434 1.2l-0.006 0z\" fill=\"rgb(20, 20, 20)\"></path><path d=\"M915.28 146.871h-120.773v-120.773c0-0 0-0 0-0 0-9.335-7.551-16.907-16.878-16.94l-0.003-0c-0.020-0-0.044-0-0.068-0-4.631 0-8.821 1.891-11.838 4.943l-0.002 0.002c-3.089 3.034-5.003 7.254-5.003 11.922 0 0.005 0 0.011 0 0.016l-0-0.001v120.861h-120.773c-0.006-0-0.012-0-0.019-0-4.646 0-8.851 1.89-11.888 4.944l-0.001 0.001c-3.055 3.046-4.945 7.259-4.945 11.913 0 0.019 0 0.038 0 0.056l-0-0.003c0.033 9.294 7.558 16.819 16.849 16.852l0.003 0h120.744v120.803c-0 0-0 0-0 0 0 9.335 7.551 16.907 16.878 16.94l0.003 0c0.018 0 0.039 0 0.061 0 4.643 0 8.844-1.89 11.875-4.944l0.001-0.001c3.054-3.037 4.945-7.242 4.945-11.888 0-0.017-0-0.034-0-0.051l0 0.003v-120.891h120.803c0.032 0 0.069 0 0.107 0 4.632 0 8.825-1.879 11.859-4.915l0-0c3.055-3.050 4.944-7.267 4.944-11.925 0-0.004-0-0.009-0-0.013l0 0.001c0-0.021 0-0.046 0-0.070 0-4.643-1.878-8.848-4.916-11.896l0 0c-3.057-3.052-7.276-4.941-11.936-4.944l-0.001-0z\" fill=\"rgb(255, 184, 0)\"></path></svg><div class=\"Bookmark-Text\"></div></div></span></div></div><div class=\"Card-Footer\"></div></div><div class=\"Card Card_rowCardLeft padding-Border\"><div class=\"Card-ImageFrame\"><div class=\"Card-ImageLink\"><a href=\"/judicial/brigadier-general-tito-yesid-castellanos-se-posesiona-como-director-del-inpec/\" rel=\"noreferrer\" target=\"_self\"><picture><source class=\"Card-Image\" media=\"(max-width: 1200px)\" srcset=\"https://www.elespectador.com/resizer/JbZBGwYFcI4PwU5OM2SvQP9g-nA=/180x120/filters:format(jpeg)/cloudfront-us-east-1.images.arcpublishing.com/elespectador/ZAAVBKPXOZDEVLVWPQKCK22HKE.jpg\"/><img alt=\"Brigadier general Tito Yesid Castellanos se posesiona como director del Inpec\" class=\"Card-Image\" src=\"https://www.elespectador.com/resizer/JbZBGwYFcI4PwU5OM2SvQP9g-nA=/180x120/filters:format(jpeg)/cloudfront-us-east-1.images.arcpublishing.com/elespectador/ZAAVBKPXOZDEVLVWPQKCK22HKE.jpg\"/></picture></a></div></div><div class=\"Card-Container\"><h2 class=\"Card-Title Title Title\"><a href=\"/judicial/brigadier-general-tito-yesid-castellanos-se-posesiona-como-director-del-inpec/\" rel=\"noreferrer\" target=\"_self\">Brigadier general Tito Yesid Castellanos se posesiona como director del Inpec</a></h2><div class=\"Card-Hook Hook\"><a href=\"/judicial/brigadier-general-tito-yesid-castellanos-se-posesiona-como-director-del-inpec/\" rel=\"noreferrer\" target=\"_self\">Llega en reemplazo de Mariano Botero Coy, en cuya administración se vivió el escándalo Carlos Mattos.</a></div><div class=\"Card-ContentFooter\"><p class=\"Card-Datetime Datetime\">11 mar. 2022  - 7:03 p. m.</p><span title=\"Guardar artículo\"><div class=\"Bookmark\"><svg bookmarkclassname=\"\" class=\"Card-Icon\" style=\"display: inline-block; stroke: currentcolor; fill: currentcolor;\" text=\"\" viewbox=\"0 0 1024 1024\"><path d=\"M777.596 357.435c-4.054-0.006-8.003-0.442-11.808-1.266l0.368 0.067v480.841l-242.395-146.286-266.708 137.509v-579.76c0.050-40.547 32.915-73.402 73.462-73.435l254.774-0c-0.756-3.436-1.193-7.385-1.2-11.435l-0-0.005c0.006-4.085 0.442-8.064 1.267-11.9l-0.067 0.373h-254.771c-53.322 0-96.549 43.226-96.549 96.549v0 617.326l288.797-149.065 266.24 160.622v-521.509c-3.436 0.755-7.384 1.192-11.434 1.2l-0.006 0z\" fill=\"rgb(20, 20, 20)\"></path><path d=\"M915.28 146.871h-120.773v-120.773c0-0 0-0 0-0 0-9.335-7.551-16.907-16.878-16.94l-0.003-0c-0.020-0-0.044-0-0.068-0-4.631 0-8.821 1.891-11.838 4.943l-0.002 0.002c-3.089 3.034-5.003 7.254-5.003 11.922 0 0.005 0 0.011 0 0.016l-0-0.001v120.861h-120.773c-0.006-0-0.012-0-0.019-0-4.646 0-8.851 1.89-11.888 4.944l-0.001 0.001c-3.055 3.046-4.945 7.259-4.945 11.913 0 0.019 0 0.038 0 0.056l-0-0.003c0.033 9.294 7.558 16.819 16.849 16.852l0.003 0h120.744v120.803c-0 0-0 0-0 0 0 9.335 7.551 16.907 16.878 16.94l0.003 0c0.018 0 0.039 0 0.061 0 4.643 0 8.844-1.89 11.875-4.944l0.001-0.001c3.054-3.037 4.945-7.242 4.945-11.888 0-0.017-0-0.034-0-0.051l0 0.003v-120.891h120.803c0.032 0 0.069 0 0.107 0 4.632 0 8.825-1.879 11.859-4.915l0-0c3.055-3.050 4.944-7.267 4.944-11.925 0-0.004-0-0.009-0-0.013l0 0.001c0-0.021 0-0.046 0-0.070 0-4.643-1.878-8.848-4.916-11.896l0 0c-3.057-3.052-7.276-4.941-11.936-4.944l-0.001-0z\" fill=\"rgb(255, 184, 0)\"></path></svg><div class=\"Bookmark-Text\"></div></div></span></div></div><div class=\"Card-Footer\"></div></div><div class=\"Card Card_rowCardLeft padding-Border\"><div class=\"Card-ImageFrame\"><div class=\"Card-ImageLink\"><a href=\"/judicial/senalan-por-abuso-sexual-al-representante-a-la-camara-modesto-aguilera/\" rel=\"noreferrer\" target=\"_self\"><picture><source class=\"Card-Image\" media=\"(max-width: 1200px)\" srcset=\"https://www.elespectador.com/resizer/nzgpTApeIDIlFKKD0wdAmhawYGE=/180x120/filters:format(jpeg)/cloudfront-us-east-1.images.arcpublishing.com/elespectador/4XDNTG32K5EVJB6UODETLITXKY.jpeg\"/><img alt=\"Señalan por abuso sexual al representante a la Cámara Modesto Aguilera\" class=\"Card-Image\" src=\"https://www.elespectador.com/resizer/nzgpTApeIDIlFKKD0wdAmhawYGE=/180x120/filters:format(jpeg)/cloudfront-us-east-1.images.arcpublishing.com/elespectador/4XDNTG32K5EVJB6UODETLITXKY.jpeg\"/></picture></a></div></div><div class=\"Card-Container\"><h2 class=\"Card-Title Title Title\"><a href=\"/judicial/senalan-por-abuso-sexual-al-representante-a-la-camara-modesto-aguilera/\" rel=\"noreferrer\" target=\"_self\">Señalan por abuso sexual al representante a la Cámara Modesto Aguilera</a></h2><div class=\"Card-Hook Hook\"><a href=\"/judicial/senalan-por-abuso-sexual-al-representante-a-la-camara-modesto-aguilera/\" rel=\"noreferrer\" target=\"_self\">La presunta víctima tendría 18 años y el hecho habría ocurrido en 2020.</a></div><div class=\"Card-ContentFooter\"><p class=\"Card-Datetime Datetime\">11 mar. 2022  - 5:48 p. m.</p><span title=\"Guardar artículo\"><div class=\"Bookmark\"><svg bookmarkclassname=\"\" class=\"Card-Icon\" style=\"display: inline-block; stroke: currentcolor; fill: currentcolor;\" text=\"\" viewbox=\"0 0 1024 1024\"><path d=\"M777.596 357.435c-4.054-0.006-8.003-0.442-11.808-1.266l0.368 0.067v480.841l-242.395-146.286-266.708 137.509v-579.76c0.050-40.547 32.915-73.402 73.462-73.435l254.774-0c-0.756-3.436-1.193-7.385-1.2-11.435l-0-0.005c0.006-4.085 0.442-8.064 1.267-11.9l-0.067 0.373h-254.771c-53.322 0-96.549 43.226-96.549 96.549v0 617.326l288.797-149.065 266.24 160.622v-521.509c-3.436 0.755-7.384 1.192-11.434 1.2l-0.006 0z\" fill=\"rgb(20, 20, 20)\"></path><path d=\"M915.28 146.871h-120.773v-120.773c0-0 0-0 0-0 0-9.335-7.551-16.907-16.878-16.94l-0.003-0c-0.020-0-0.044-0-0.068-0-4.631 0-8.821 1.891-11.838 4.943l-0.002 0.002c-3.089 3.034-5.003 7.254-5.003 11.922 0 0.005 0 0.011 0 0.016l-0-0.001v120.861h-120.773c-0.006-0-0.012-0-0.019-0-4.646 0-8.851 1.89-11.888 4.944l-0.001 0.001c-3.055 3.046-4.945 7.259-4.945 11.913 0 0.019 0 0.038 0 0.056l-0-0.003c0.033 9.294 7.558 16.819 16.849 16.852l0.003 0h120.744v120.803c-0 0-0 0-0 0 0 9.335 7.551 16.907 16.878 16.94l0.003 0c0.018 0 0.039 0 0.061 0 4.643 0 8.844-1.89 11.875-4.944l0.001-0.001c3.054-3.037 4.945-7.242 4.945-11.888 0-0.017-0-0.034-0-0.051l0 0.003v-120.891h120.803c0.032 0 0.069 0 0.107 0 4.632 0 8.825-1.879 11.859-4.915l0-0c3.055-3.050 4.944-7.267 4.944-11.925 0-0.004-0-0.009-0-0.013l0 0.001c0-0.021 0-0.046 0-0.070 0-4.643-1.878-8.848-4.916-11.896l0 0c-3.057-3.052-7.276-4.941-11.936-4.944l-0.001-0z\" fill=\"rgb(255, 184, 0)\"></path></svg><div class=\"Bookmark-Text\"></div></div></span></div></div><div class=\"Card-Footer\"></div></div><div class=\"Card Card_rowCardLeft padding-Border\"><div class=\"Card-ImageFrame\"><div class=\"Card-ImageLink\"><a href=\"/judicial/jep-rechazo-amnistia-a-mauricio-parra-en-el-caso-de-homicidio-de-dueno-de-surtifruver/\" rel=\"noreferrer\" target=\"_self\"><picture><source class=\"Card-Image\" media=\"(max-width: 1200px)\" srcset=\"https://www.elespectador.com/resizer/aDi-PqUio78xy8Qe1CvjRp9QJUk=/180x120/filters:format(jpeg)/cloudfront-us-east-1.images.arcpublishing.com/elespectador/HUNKLFYTDFHSVOSLVX6Y7HUFNA.jpg\"/><img alt=\"JEP rechazó amnistía a Mauricio Parra en el caso de homicidio de dueño de Surtifruver\" class=\"Card-Image\" src=\"https://www.elespectador.com/resizer/aDi-PqUio78xy8Qe1CvjRp9QJUk=/180x120/filters:format(jpeg)/cloudfront-us-east-1.images.arcpublishing.com/elespectador/HUNKLFYTDFHSVOSLVX6Y7HUFNA.jpg\"/></picture></a></div></div><div class=\"Card-Container\"><h4 class=\"Card-Section Section\"><div class=\"Card-ExclusiveContainer\"><label>Prémium</label></div></h4><h2 class=\"Card-Title Title Title\"><a href=\"/judicial/jep-rechazo-amnistia-a-mauricio-parra-en-el-caso-de-homicidio-de-dueno-de-surtifruver/\" rel=\"noreferrer\" target=\"_self\">JEP rechazó amnistía a Mauricio Parra en el caso de homicidio de dueño de Surtifruver</a></h2><div class=\"Card-Hook Hook\"><a href=\"/judicial/jep-rechazo-amnistia-a-mauricio-parra-en-el-caso-de-homicidio-de-dueno-de-surtifruver/\" rel=\"noreferrer\" target=\"_self\">La Sala de Amnistía o indulto de la Jurisdicción Especial para la Paz (JEP) consideró que no son de su competencia dos homicidios...</a></div><div class=\"Card-ContentFooter\"><p class=\"Card-Datetime Datetime\">11 mar. 2022  - 4:20 p. m.</p><span title=\"Guardar artículo\"><div class=\"Bookmark\"><svg bookmarkclassname=\"\" class=\"Card-Icon\" style=\"display: inline-block; stroke: currentcolor; fill: currentcolor;\" text=\"\" viewbox=\"0 0 1024 1024\"><path d=\"M777.596 357.435c-4.054-0.006-8.003-0.442-11.808-1.266l0.368 0.067v480.841l-242.395-146.286-266.708 137.509v-579.76c0.050-40.547 32.915-73.402 73.462-73.435l254.774-0c-0.756-3.436-1.193-7.385-1.2-11.435l-0-0.005c0.006-4.085 0.442-8.064 1.267-11.9l-0.067 0.373h-254.771c-53.322 0-96.549 43.226-96.549 96.549v0 617.326l288.797-149.065 266.24 160.622v-521.509c-3.436 0.755-7.384 1.192-11.434 1.2l-0.006 0z\" fill=\"rgb(20, 20, 20)\"></path><path d=\"M915.28 146.871h-120.773v-120.773c0-0 0-0 0-0 0-9.335-7.551-16.907-16.878-16.94l-0.003-0c-0.020-0-0.044-0-0.068-0-4.631 0-8.821 1.891-11.838 4.943l-0.002 0.002c-3.089 3.034-5.003 7.254-5.003 11.922 0 0.005 0 0.011 0 0.016l-0-0.001v120.861h-120.773c-0.006-0-0.012-0-0.019-0-4.646 0-8.851 1.89-11.888 4.944l-0.001 0.001c-3.055 3.046-4.945 7.259-4.945 11.913 0 0.019 0 0.038 0 0.056l-0-0.003c0.033 9.294 7.558 16.819 16.849 16.852l0.003 0h120.744v120.803c-0 0-0 0-0 0 0 9.335 7.551 16.907 16.878 16.94l0.003 0c0.018 0 0.039 0 0.061 0 4.643 0 8.844-1.89 11.875-4.944l0.001-0.001c3.054-3.037 4.945-7.242 4.945-11.888 0-0.017-0-0.034-0-0.051l0 0.003v-120.891h120.803c0.032 0 0.069 0 0.107 0 4.632 0 8.825-1.879 11.859-4.915l0-0c3.055-3.050 4.944-7.267 4.944-11.925 0-0.004-0-0.009-0-0.013l0 0.001c0-0.021 0-0.046 0-0.070 0-4.643-1.878-8.848-4.916-11.896l0 0c-3.057-3.052-7.276-4.941-11.936-4.944l-0.001-0z\" fill=\"rgb(255, 184, 0)\"></path></svg><div class=\"Bookmark-Text\"></div></div></span></div></div><div class=\"Card-Footer\"></div></div></div></div></div><div class=\"\"></div></div>]\n"
     ]
    },
    {
     "ename": "AttributeError",
     "evalue": "'NoneType' object has no attribute 'get_text'",
     "output_type": "error",
     "traceback": [
      "\u001b[1;31m---------------------------------------------------------------------------\u001b[0m",
      "\u001b[1;31mAttributeError\u001b[0m                            Traceback (most recent call last)",
      "Input \u001b[1;32mIn [8]\u001b[0m, in \u001b[0;36m<cell line: 3>\u001b[1;34m()\u001b[0m\n\u001b[0;32m      3\u001b[0m \u001b[38;5;28;01mfor\u001b[39;00m v \u001b[38;5;129;01min\u001b[39;00m lista:\n\u001b[0;32m      4\u001b[0m     \u001b[38;5;28mprint\u001b[39m(v)\n\u001b[1;32m----> 5\u001b[0m     \u001b[43murls\u001b[49m\u001b[43m(\u001b[49m\u001b[43mbrowser\u001b[49m\u001b[43m,\u001b[49m\u001b[43mv\u001b[49m\u001b[43m)\u001b[49m\n",
      "Input \u001b[1;32mIn [7]\u001b[0m, in \u001b[0;36murls\u001b[1;34m(browser, data)\u001b[0m\n\u001b[0;32m     26\u001b[0m \u001b[38;5;66;03m# Extracting news metadata\u001b[39;00m\n\u001b[0;32m     27\u001b[0m n[\u001b[38;5;124m'\u001b[39m\u001b[38;5;124mdatetime\u001b[39m\u001b[38;5;124m'\u001b[39m] \u001b[38;5;241m=\u001b[39m soup\u001b[38;5;241m.\u001b[39mfind(class_ \u001b[38;5;241m=\u001b[39m \u001b[38;5;124m'\u001b[39m\u001b[38;5;124mArticleHeader-Date\u001b[39m\u001b[38;5;124m'\u001b[39m)\u001b[38;5;241m.\u001b[39mget_text()\n\u001b[1;32m---> 28\u001b[0m n[\u001b[38;5;124m'\u001b[39m\u001b[38;5;124mauthor\u001b[39m\u001b[38;5;124m'\u001b[39m] \u001b[38;5;241m=\u001b[39m \u001b[43msoup\u001b[49m\u001b[38;5;241;43m.\u001b[39;49m\u001b[43mfind\u001b[49m\u001b[43m(\u001b[49m\u001b[43mclass_\u001b[49m\u001b[43m \u001b[49m\u001b[38;5;241;43m=\u001b[39;49m\u001b[43m \u001b[49m\u001b[38;5;124;43m'\u001b[39;49m\u001b[38;5;124;43mACredit-Author\u001b[39;49m\u001b[38;5;124;43m'\u001b[39;49m\u001b[43m)\u001b[49m\u001b[38;5;241;43m.\u001b[39;49m\u001b[43mfind\u001b[49m\u001b[43m(\u001b[49m\u001b[38;5;124;43m'\u001b[39;49m\u001b[38;5;124;43ma\u001b[39;49m\u001b[38;5;124;43m'\u001b[39;49m\u001b[43m)\u001b[49m\u001b[38;5;241;43m.\u001b[39;49m\u001b[43mget_text\u001b[49m()\n\u001b[0;32m     29\u001b[0m n[\u001b[38;5;124m'\u001b[39m\u001b[38;5;124msummary\u001b[39m\u001b[38;5;124m'\u001b[39m] \u001b[38;5;241m=\u001b[39m soup\u001b[38;5;241m.\u001b[39mfind(class_ \u001b[38;5;241m=\u001b[39m \u001b[38;5;124m'\u001b[39m\u001b[38;5;124mArticleHeader-Hook\u001b[39m\u001b[38;5;124m'\u001b[39m)\u001b[38;5;241m.\u001b[39mfind(\u001b[38;5;124m'\u001b[39m\u001b[38;5;124mdiv\u001b[39m\u001b[38;5;124m'\u001b[39m)\u001b[38;5;241m.\u001b[39mget_text()\n\u001b[0;32m     31\u001b[0m \u001b[38;5;66;03m# Extracting and concatenating news full text\u001b[39;00m\n",
      "\u001b[1;31mAttributeError\u001b[0m: 'NoneType' object has no attribute 'get_text'"
     ]
    }
   ],
   "source": [
    "print(\"entro\")\n",
    "lista = ['/archivo/judicial/20/','/archivo/bogota/32/','/archivo/mundo/32/','/archivo/educacion/32/']\n",
    "for v in lista:\n",
    "    print(v)\n",
    "    urls(browser,v)\n",
    "\n"
   ]
  },
  {
   "cell_type": "code",
   "execution_count": 84,
   "metadata": {},
   "outputs": [],
   "source": [
    "# Finding the section where news are contained \n",
    "layout = soup.find(class_ = 'Layout-flexAds')"
   ]
  },
  {
   "cell_type": "code",
   "execution_count": 85,
   "metadata": {},
   "outputs": [
    {
     "name": "stdout",
     "output_type": "stream",
     "text": [
      "1\n",
      "[<div class=\"Container Block\"><div class=\"Grid pure-g\"><div class=\"false pure-u-1\"></div><div class=\"Grid pure-g pure-u-1\"><div class=\"false BlockMargin_bottomBorders\"><div class=\"Card Card_rowCardLeft padding-Border\"><div class=\"Card-ImageFrame\"><div class=\"Card-ImageLink\"><a href=\"/politica/critican-decision-de-duque-de-impedir-intervencion-civil-en-consejo-de-seguridad/\" rel=\"noreferrer\" target=\"_self\"><picture><source class=\"Card-Image\" media=\"(max-width: 1200px)\" srcset=\"https://www.elespectador.com/resizer/kUI_WqdJljTWfMbYZTJWzNR5AIM=/287x191/filters:format(jpeg)/cloudfront-us-east-1.images.arcpublishing.com/elespectador/FH3B2R7W3CVD62E6AXAEMK34YY.jpg\"/><img alt=\"Critican decisión de Duque de impedir intervención civil en Consejo de Seguridad\" class=\"Card-Image\" src=\"https://www.elespectador.com/resizer/kUI_WqdJljTWfMbYZTJWzNR5AIM=/287x191/filters:format(jpeg)/cloudfront-us-east-1.images.arcpublishing.com/elespectador/FH3B2R7W3CVD62E6AXAEMK34YY.jpg\"/></picture></a></div></div><div class=\"Card-Container\"><h2 class=\"Card-Title Title Title\"><a href=\"/politica/critican-decision-de-duque-de-impedir-intervencion-civil-en-consejo-de-seguridad/\" rel=\"noreferrer\" target=\"_self\">Critican decisión de Duque de impedir intervención civil en Consejo de Seguridad</a></h2><div class=\"Card-Hook Hook\"><a href=\"/politica/critican-decision-de-duque-de-impedir-intervencion-civil-en-consejo-de-seguridad/\" rel=\"noreferrer\" target=\"_self\">Varias organizaciones llamaron la atención frente al pedido que les impediría participar en la rendición de cuentas del proceso...</a></div><div class=\"Card-ContentFooter\"><p class=\"Card-Datetime Datetime\">Hace 4 horas</p><span title=\"Guardar artículo\"><div class=\"Bookmark\"><svg bookmarkclassname=\"\" class=\"Card-Icon\" style=\"display: inline-block; stroke: currentcolor; fill: currentcolor;\" text=\"\" viewbox=\"0 0 1024 1024\"><path d=\"M777.596 357.435c-4.054-0.006-8.003-0.442-11.808-1.266l0.368 0.067v480.841l-242.395-146.286-266.708 137.509v-579.76c0.050-40.547 32.915-73.402 73.462-73.435l254.774-0c-0.756-3.436-1.193-7.385-1.2-11.435l-0-0.005c0.006-4.085 0.442-8.064 1.267-11.9l-0.067 0.373h-254.771c-53.322 0-96.549 43.226-96.549 96.549v0 617.326l288.797-149.065 266.24 160.622v-521.509c-3.436 0.755-7.384 1.192-11.434 1.2l-0.006 0z\" fill=\"rgb(20, 20, 20)\"></path><path d=\"M915.28 146.871h-120.773v-120.773c0-0 0-0 0-0 0-9.335-7.551-16.907-16.878-16.94l-0.003-0c-0.020-0-0.044-0-0.068-0-4.631 0-8.821 1.891-11.838 4.943l-0.002 0.002c-3.089 3.034-5.003 7.254-5.003 11.922 0 0.005 0 0.011 0 0.016l-0-0.001v120.861h-120.773c-0.006-0-0.012-0-0.019-0-4.646 0-8.851 1.89-11.888 4.944l-0.001 0.001c-3.055 3.046-4.945 7.259-4.945 11.913 0 0.019 0 0.038 0 0.056l-0-0.003c0.033 9.294 7.558 16.819 16.849 16.852l0.003 0h120.744v120.803c-0 0-0 0-0 0 0 9.335 7.551 16.907 16.878 16.94l0.003 0c0.018 0 0.039 0 0.061 0 4.643 0 8.844-1.89 11.875-4.944l0.001-0.001c3.054-3.037 4.945-7.242 4.945-11.888 0-0.017-0-0.034-0-0.051l0 0.003v-120.891h120.803c0.032 0 0.069 0 0.107 0 4.632 0 8.825-1.879 11.859-4.915l0-0c3.055-3.050 4.944-7.267 4.944-11.925 0-0.004-0-0.009-0-0.013l0 0.001c0-0.021 0-0.046 0-0.070 0-4.643-1.878-8.848-4.916-11.896l0 0c-3.057-3.052-7.276-4.941-11.936-4.944l-0.001-0z\" fill=\"rgb(255, 184, 0)\"></path></svg><div class=\"Bookmark-Text\"></div></div></span></div></div><div class=\"Card-Footer\"></div></div><div class=\"Card Card_rowCardLeft padding-Border\"><div class=\"Card-ImageFrame\"><div class=\"Card-ImageLink\"><a href=\"/politica/elecciones-colombia-2022/fajardo-pide-garantias-de-imparcialidad-de-la-fiscalia-por-lo-del-putumayo/\" rel=\"noreferrer\" target=\"_self\"><picture><source class=\"Card-Image\" media=\"(max-width: 1200px)\" srcset=\"https://www.elespectador.com/resizer/IiEJ79ZIRnMs-RmlewSuAjx9RRg=/287x191/filters:format(jpeg)/cloudfront-us-east-1.images.arcpublishing.com/elespectador/3P6BOHWWTJCC3EIXASLW7XDFKM.JPG\"/><img alt=\"Fajardo pide garantías de imparcialidad de la Fiscalía por lo del Putumayo \" class=\"Card-Image\" src=\"https://www.elespectador.com/resizer/IiEJ79ZIRnMs-RmlewSuAjx9RRg=/287x191/filters:format(jpeg)/cloudfront-us-east-1.images.arcpublishing.com/elespectador/3P6BOHWWTJCC3EIXASLW7XDFKM.JPG\"/></picture></a></div></div><div class=\"Card-Container\"><h2 class=\"Card-Title Title Title\"><a href=\"/politica/elecciones-colombia-2022/fajardo-pide-garantias-de-imparcialidad-de-la-fiscalia-por-lo-del-putumayo/\" rel=\"noreferrer\" target=\"_self\">Fajardo pide garantías de imparcialidad de la Fiscalía por lo del Putumayo </a></h2><div class=\"Card-Hook Hook\"><a href=\"/politica/elecciones-colombia-2022/fajardo-pide-garantias-de-imparcialidad-de-la-fiscalia-por-lo-del-putumayo/\" rel=\"noreferrer\" target=\"_self\">En carta a la Corte Suprema de Justicia, el candidato dice que  “preocupante” la cercanía del fiscal Barbosa con el gobierno...</a></div><div class=\"Card-ContentFooter\"><p class=\"Card-Datetime Datetime\">Hace 15 horas</p><span title=\"Guardar artículo\"><div class=\"Bookmark\"><svg bookmarkclassname=\"\" class=\"Card-Icon\" style=\"display: inline-block; stroke: currentcolor; fill: currentcolor;\" text=\"\" viewbox=\"0 0 1024 1024\"><path d=\"M777.596 357.435c-4.054-0.006-8.003-0.442-11.808-1.266l0.368 0.067v480.841l-242.395-146.286-266.708 137.509v-579.76c0.050-40.547 32.915-73.402 73.462-73.435l254.774-0c-0.756-3.436-1.193-7.385-1.2-11.435l-0-0.005c0.006-4.085 0.442-8.064 1.267-11.9l-0.067 0.373h-254.771c-53.322 0-96.549 43.226-96.549 96.549v0 617.326l288.797-149.065 266.24 160.622v-521.509c-3.436 0.755-7.384 1.192-11.434 1.2l-0.006 0z\" fill=\"rgb(20, 20, 20)\"></path><path d=\"M915.28 146.871h-120.773v-120.773c0-0 0-0 0-0 0-9.335-7.551-16.907-16.878-16.94l-0.003-0c-0.020-0-0.044-0-0.068-0-4.631 0-8.821 1.891-11.838 4.943l-0.002 0.002c-3.089 3.034-5.003 7.254-5.003 11.922 0 0.005 0 0.011 0 0.016l-0-0.001v120.861h-120.773c-0.006-0-0.012-0-0.019-0-4.646 0-8.851 1.89-11.888 4.944l-0.001 0.001c-3.055 3.046-4.945 7.259-4.945 11.913 0 0.019 0 0.038 0 0.056l-0-0.003c0.033 9.294 7.558 16.819 16.849 16.852l0.003 0h120.744v120.803c-0 0-0 0-0 0 0 9.335 7.551 16.907 16.878 16.94l0.003 0c0.018 0 0.039 0 0.061 0 4.643 0 8.844-1.89 11.875-4.944l0.001-0.001c3.054-3.037 4.945-7.242 4.945-11.888 0-0.017-0-0.034-0-0.051l0 0.003v-120.891h120.803c0.032 0 0.069 0 0.107 0 4.632 0 8.825-1.879 11.859-4.915l0-0c3.055-3.050 4.944-7.267 4.944-11.925 0-0.004-0-0.009-0-0.013l0 0.001c0-0.021 0-0.046 0-0.070 0-4.643-1.878-8.848-4.916-11.896l0 0c-3.057-3.052-7.276-4.941-11.936-4.944l-0.001-0z\" fill=\"rgb(255, 184, 0)\"></path></svg><div class=\"Bookmark-Text\"></div></div></span></div></div><div class=\"Card-Footer\"></div></div><div class=\"Card Card_rowCardLeft padding-Border\"><div class=\"Card-ImageFrame\"><div class=\"Card-ImageLink\"><a href=\"/politica/elecciones-colombia-2022/los-partidos-no-estan-fomentando-la-inclusion-de-las-mujeres/\" rel=\"noreferrer\" target=\"_self\"><picture><source class=\"Card-Image\" media=\"(max-width: 1200px)\" srcset=\"https://www.elespectador.com/resizer/NIWtCtrz61zcjQW4hE_PRBtxu18=/287x191/filters:format(jpeg)/cloudfront-us-east-1.images.arcpublishing.com/elespectador/FCSFSFGBSBEANPZBEDECAVM3EY.jpg\"/><img alt=\"Análisis: los partidos no están fomentando la inclusión de las mujeres\" class=\"Card-Image\" src=\"https://www.elespectador.com/resizer/NIWtCtrz61zcjQW4hE_PRBtxu18=/287x191/filters:format(jpeg)/cloudfront-us-east-1.images.arcpublishing.com/elespectador/FCSFSFGBSBEANPZBEDECAVM3EY.jpg\"/></picture></a></div></div><div class=\"Card-Container\"><h4 class=\"Card-Section Section\"><div class=\"Card-ExclusiveContainer\"><label>Prémium</label></div></h4><h2 class=\"Card-Title Title Title\"><a href=\"/politica/elecciones-colombia-2022/los-partidos-no-estan-fomentando-la-inclusion-de-las-mujeres/\" rel=\"noreferrer\" target=\"_self\">Análisis: los partidos no están fomentando la inclusión de las mujeres</a></h2><div class=\"Card-Hook Hook\"><a href=\"/politica/elecciones-colombia-2022/los-partidos-no-estan-fomentando-la-inclusion-de-las-mujeres/\" rel=\"noreferrer\" target=\"_self\">Los partidos deben cumplir la destinación del 5 % de los recursos estatales en la formación de mujeres. El panorama es...</a></div><div class=\"Card-ContentFooter\"><p class=\"Card-Datetime Datetime\">Hace 16 horas</p><span title=\"Guardar artículo\"><div class=\"Bookmark\"><svg bookmarkclassname=\"\" class=\"Card-Icon\" style=\"display: inline-block; stroke: currentcolor; fill: currentcolor;\" text=\"\" viewbox=\"0 0 1024 1024\"><path d=\"M777.596 357.435c-4.054-0.006-8.003-0.442-11.808-1.266l0.368 0.067v480.841l-242.395-146.286-266.708 137.509v-579.76c0.050-40.547 32.915-73.402 73.462-73.435l254.774-0c-0.756-3.436-1.193-7.385-1.2-11.435l-0-0.005c0.006-4.085 0.442-8.064 1.267-11.9l-0.067 0.373h-254.771c-53.322 0-96.549 43.226-96.549 96.549v0 617.326l288.797-149.065 266.24 160.622v-521.509c-3.436 0.755-7.384 1.192-11.434 1.2l-0.006 0z\" fill=\"rgb(20, 20, 20)\"></path><path d=\"M915.28 146.871h-120.773v-120.773c0-0 0-0 0-0 0-9.335-7.551-16.907-16.878-16.94l-0.003-0c-0.020-0-0.044-0-0.068-0-4.631 0-8.821 1.891-11.838 4.943l-0.002 0.002c-3.089 3.034-5.003 7.254-5.003 11.922 0 0.005 0 0.011 0 0.016l-0-0.001v120.861h-120.773c-0.006-0-0.012-0-0.019-0-4.646 0-8.851 1.89-11.888 4.944l-0.001 0.001c-3.055 3.046-4.945 7.259-4.945 11.913 0 0.019 0 0.038 0 0.056l-0-0.003c0.033 9.294 7.558 16.819 16.849 16.852l0.003 0h120.744v120.803c-0 0-0 0-0 0 0 9.335 7.551 16.907 16.878 16.94l0.003 0c0.018 0 0.039 0 0.061 0 4.643 0 8.844-1.89 11.875-4.944l0.001-0.001c3.054-3.037 4.945-7.242 4.945-11.888 0-0.017-0-0.034-0-0.051l0 0.003v-120.891h120.803c0.032 0 0.069 0 0.107 0 4.632 0 8.825-1.879 11.859-4.915l0-0c3.055-3.050 4.944-7.267 4.944-11.925 0-0.004-0-0.009-0-0.013l0 0.001c0-0.021 0-0.046 0-0.070 0-4.643-1.878-8.848-4.916-11.896l0 0c-3.057-3.052-7.276-4.941-11.936-4.944l-0.001-0z\" fill=\"rgb(255, 184, 0)\"></path></svg><div class=\"Bookmark-Text\"></div></div></span></div></div><div class=\"Card-Footer\"></div></div><div class=\"Card Card_rowCardLeft padding-Border\"><div class=\"Card-ImageFrame\"><div class=\"Card-ImageLink\"><a href=\"/politica/elecciones-colombia-2022/son-altamente-irresponsables-flip-sobre-mensajes-de-enrique-gomez-contra-periodistas/\" rel=\"noreferrer\" target=\"_self\"><picture><source class=\"Card-Image\" media=\"(max-width: 1200px)\" srcset=\"https://www.elespectador.com/resizer/StohciPLkWa4i82cmzzFl4uiO3g=/180x120/filters:format(jpeg)/cloudfront-us-east-1.images.arcpublishing.com/elespectador/47USRAN55VFNZEU2FYD4VGUCHY.JPG\"/><img alt=\"“Son irresponsables”: Flip sobre mensajes de Enrique Gómez contra periodistas\" class=\"Card-Image\" src=\"https://www.elespectador.com/resizer/StohciPLkWa4i82cmzzFl4uiO3g=/180x120/filters:format(jpeg)/cloudfront-us-east-1.images.arcpublishing.com/elespectador/47USRAN55VFNZEU2FYD4VGUCHY.JPG\"/></picture></a></div></div><div class=\"Card-Container\"><h2 class=\"Card-Title Title Title\"><a href=\"/politica/elecciones-colombia-2022/son-altamente-irresponsables-flip-sobre-mensajes-de-enrique-gomez-contra-periodistas/\" rel=\"noreferrer\" target=\"_self\">“Son irresponsables”: Flip sobre mensajes de Enrique Gómez contra periodistas</a></h2><div class=\"Card-Hook Hook\"><a href=\"/politica/elecciones-colombia-2022/son-altamente-irresponsables-flip-sobre-mensajes-de-enrique-gomez-contra-periodistas/\" rel=\"noreferrer\" target=\"_self\">La Flip se refirió a una serie de mensajes que publicó el candidato presidencial, en los que estigmatizó a seis reporteros.</a></div><div class=\"Card-ContentFooter\"><p class=\"Card-Datetime Datetime\">Hace 20 horas</p><span title=\"Guardar artículo\"><div class=\"Bookmark\"><svg bookmarkclassname=\"\" class=\"Card-Icon\" style=\"display: inline-block; stroke: currentcolor; fill: currentcolor;\" text=\"\" viewbox=\"0 0 1024 1024\"><path d=\"M777.596 357.435c-4.054-0.006-8.003-0.442-11.808-1.266l0.368 0.067v480.841l-242.395-146.286-266.708 137.509v-579.76c0.050-40.547 32.915-73.402 73.462-73.435l254.774-0c-0.756-3.436-1.193-7.385-1.2-11.435l-0-0.005c0.006-4.085 0.442-8.064 1.267-11.9l-0.067 0.373h-254.771c-53.322 0-96.549 43.226-96.549 96.549v0 617.326l288.797-149.065 266.24 160.622v-521.509c-3.436 0.755-7.384 1.192-11.434 1.2l-0.006 0z\" fill=\"rgb(20, 20, 20)\"></path><path d=\"M915.28 146.871h-120.773v-120.773c0-0 0-0 0-0 0-9.335-7.551-16.907-16.878-16.94l-0.003-0c-0.020-0-0.044-0-0.068-0-4.631 0-8.821 1.891-11.838 4.943l-0.002 0.002c-3.089 3.034-5.003 7.254-5.003 11.922 0 0.005 0 0.011 0 0.016l-0-0.001v120.861h-120.773c-0.006-0-0.012-0-0.019-0-4.646 0-8.851 1.89-11.888 4.944l-0.001 0.001c-3.055 3.046-4.945 7.259-4.945 11.913 0 0.019 0 0.038 0 0.056l-0-0.003c0.033 9.294 7.558 16.819 16.849 16.852l0.003 0h120.744v120.803c-0 0-0 0-0 0 0 9.335 7.551 16.907 16.878 16.94l0.003 0c0.018 0 0.039 0 0.061 0 4.643 0 8.844-1.89 11.875-4.944l0.001-0.001c3.054-3.037 4.945-7.242 4.945-11.888 0-0.017-0-0.034-0-0.051l0 0.003v-120.891h120.803c0.032 0 0.069 0 0.107 0 4.632 0 8.825-1.879 11.859-4.915l0-0c3.055-3.050 4.944-7.267 4.944-11.925 0-0.004-0-0.009-0-0.013l0 0.001c0-0.021 0-0.046 0-0.070 0-4.643-1.878-8.848-4.916-11.896l0 0c-3.057-3.052-7.276-4.941-11.936-4.944l-0.001-0z\" fill=\"rgb(255, 184, 0)\"></path></svg><div class=\"Bookmark-Text\"></div></div></span></div></div><div class=\"Card-Footer\"></div></div></div></div></div><div class=\"\"></div></div>]\n"
     ]
    }
   ],
   "source": [
    "# Getting blocks from layout\n",
    "blocks = layout.find_all(class_ = 'Container Block', recursive = True)\n",
    "\n",
    "print(len(blocks))\n",
    "print(blocks)"
   ]
  },
  {
   "cell_type": "code",
   "execution_count": 90,
   "metadata": {},
   "outputs": [],
   "source": [
    "# Finding and concatenating news cards\n",
    "\n",
    "if(len(blocks)  == 2):\n",
    "    cards = blocks[0].find_all(class_ = 'Card_rowCardLeft') + blocks[1].find_all(class_ = 'Card_rowCardLeft')\n",
    "    len(cards)\n",
    "elif(len(blocks)  == 1):\n",
    "    cards = blocks[0].find_all(class_ = 'Card_rowCardLeft')\n",
    "    len(cards)\n",
    "\n"
   ]
  },
  {
   "cell_type": "code",
   "execution_count": 91,
   "metadata": {},
   "outputs": [],
   "source": [
    "# Building a list with title and relative path of the news founded\n",
    "\n",
    "news = []\n",
    "\n",
    "for card in cards:\n",
    "    news.append({\n",
    "        'title': card.find('h2', class_ = 'Card-Title').find('a').get_text(),\n",
    "        'relative_path': card.find('h2', class_ = 'Card-Title').find('a')['href']\n",
    "    })"
   ]
  },
  {
   "cell_type": "code",
   "execution_count": 92,
   "metadata": {},
   "outputs": [
    {
     "data": {
      "text/plain": [
       "[{'title': 'Critican decisión de Duque de impedir intervención civil en Consejo de Seguridad',\n",
       "  'relative_path': '/politica/critican-decision-de-duque-de-impedir-intervencion-civil-en-consejo-de-seguridad/'},\n",
       " {'title': 'Fajardo pide garantías de imparcialidad de la Fiscalía por lo del Putumayo ',\n",
       "  'relative_path': '/politica/elecciones-colombia-2022/fajardo-pide-garantias-de-imparcialidad-de-la-fiscalia-por-lo-del-putumayo/'},\n",
       " {'title': 'Análisis: los partidos no están fomentando la inclusión de las mujeres',\n",
       "  'relative_path': '/politica/elecciones-colombia-2022/los-partidos-no-estan-fomentando-la-inclusion-de-las-mujeres/'},\n",
       " {'title': '“Son irresponsables”: Flip sobre mensajes de Enrique Gómez contra periodistas',\n",
       "  'relative_path': '/politica/elecciones-colombia-2022/son-altamente-irresponsables-flip-sobre-mensajes-de-enrique-gomez-contra-periodistas/'}]"
      ]
     },
     "execution_count": 92,
     "metadata": {},
     "output_type": "execute_result"
    }
   ],
   "source": [
    "news"
   ]
  },
  {
   "cell_type": "code",
   "execution_count": 93,
   "metadata": {},
   "outputs": [],
   "source": [
    "for n in news:\n",
    "    # Getting HTML content for each news page\n",
    "    soup = make_request(browser, n['relative_path'])\n",
    "    \n",
    "    # Extracting news metadata\n",
    "    n['datetime'] = soup.find(class_ = 'ArticleHeader-Date').get_text()\n",
    "    n['author'] = soup.find(class_ = 'ACredit-Author').find('a').get_text()\n",
    "    n['summary'] = soup.find(class_ = 'ArticleHeader-Hook').find('div').get_text()\n",
    "    \n",
    "    # Extracting and concatenating news full text\n",
    "    paragraphs = soup.find_all(class_ = 'font--secondary')\n",
    "    n['full_text'] = ' '.join([p.get_text() for p in paragraphs])"
   ]
  },
  {
   "cell_type": "code",
   "execution_count": 94,
   "metadata": {},
   "outputs": [
    {
     "data": {
      "text/plain": [
       "[{'title': 'Critican decisión de Duque de impedir intervención civil en Consejo de Seguridad',\n",
       "  'relative_path': '/politica/critican-decision-de-duque-de-impedir-intervencion-civil-en-consejo-de-seguridad/',\n",
       "  'datetime': '12 abr. 2022  - 7:02 a.\\xa0m.',\n",
       "  'author': 'Redacción Política',\n",
       "  'summary': 'Varias organizaciones llamaron la atención frente al pedido que les impediría participar este martes en la rendición de cuentas trimestral de los avances del proceso de paz.',\n",
       "  'full_text': 'A través de una carta, varias organizaciones de víctimas y víctimas a nombre propio llamaron la atención del Consejo de Seguridad frente a la supuesta petición del presidente Iván Duque para que la sociedad civil no pueda participar de la rendición de cuentas trimestral del acuerdo de paz colombiano, durante la sesión de esta célula de las Naciones Unidas. Son más de 92 organizaciones las firmantes que advirtieron que la medida pedida por el primer mandatario colombiano pone en peligro la implementación del acuerdo de paz, pues desconoce el principio básico: “las víctimas del conflicto armado colombiano estamos en el centro del acuerdo de paz”. >Lea más sobre las elecciones de 2022 y otras noticias del mundo político Las organizaciones de víctimas señalan con preocupación que se les estaría excluyendo de una sesión muy importante, ya que es una de las últimas del gobierno Duque y precisamente contará con la presencia del primer mandatario. De acuerdo con las víctimas, su participación es aún mas importante en es estos momentos, “en un contexto de guerra donde los testimonios de civiles son supremamente importantes y respetados”. Según los redactantes de la carta, la determinación presidencial se debe a que las organizaciones de víctimas han hecho observaciones continúas de incumplimientos y violaciones al acuerdo de paz. Incluso estos resaltaron los informes que ha emitido la misión de verificación de la ONU en los que se evidencian el asesinato tanto de excombatientes en reincorporación como líderes sociales. “La construcción de paz no debe estar exenta de los líderes sociales, los defensores de derechos humanos ni las víctimas del conflicto”, aseguraron los 92 firmantes del comunicado. Estos destacaron el contexto de violencia que actualmente hay en el país y que se evidencia en la muerte reciente tanto de exguerrilleros en incorporación como de líderes indígenas. A renglón seguido, las organizaciones de víctimas volvieron a cuestionar la decisión de marginarlos de la sesión, ya que “nuestra voz debe ser escuchada y debemos estar representados (…) es imperativo que sigamos siendo los primeros beneficiarios de la implementación del acuerdo de paz y que podamos asistir a las sesiones”. Por último, los autores de la misiva pidieron que esta carta sea entregada al resto de los presentes en el Consejo de Seguridad, para dar a conocer la determinación del mandatario colombiano. En este mismo sentido, las mismas organizaciones enviaron otra carta en la que denunciaron algunas de las supuestas omisiones del gobierno en la implementación. Estos se centraron ante la supuesta negativa de las instancias gubernamentales para convocar la instancia especial con Pueblo Étnicos, desde octubre del 2020, y la instancia, y la instancia especial para el Enfoque de Género, convocada por última vez en abril de 2021. Supuestamente, según los firmantes, estos espacios debían ser convocados cada dos meses y no se ha hecho de tal manera. En este mismo sentido cuestionaron en la segunda carta que en más de cinco años no se haya presentado la estrategia con la que el Estado planea desmantelar a los grupos armados por fuera de la ley, como lo establece el acuerdo de paz. “Son estos grupos los que vulneran diariamente nuestras comunidades, reclutan a nuestras niñas y niñas y buscan activamente asesinar a nuestros miembros”, concluyen.'},\n",
       " {'title': 'Fajardo pide garantías de imparcialidad de la Fiscalía por lo del Putumayo ',\n",
       "  'relative_path': '/politica/elecciones-colombia-2022/fajardo-pide-garantias-de-imparcialidad-de-la-fiscalia-por-lo-del-putumayo/',\n",
       "  'datetime': '11 abr. 2022  - 8:09 p.\\xa0m.',\n",
       "  'author': 'Redacción Política',\n",
       "  'summary': 'En carta a la Corte Suprema de Justicia, el candidato presidencial de Centro Esperanza, es “preocupante” que el fiscal general, Francisco Barbosa, haya sido funcionario de confianza del presidente Iván Duque, comandante supremo de las Fuerzas Armadas.',\n",
       "  'full_text': 'El candidato presidencial Sergio Fajardo, de la Coalición Centro Esperanza, le solicitó a la Corte Suprema de Justicia, como electora del fiscal general Francisco Barbosa, pedirle a este garantías mínimas de independencia e imparcialidad frente a las investigaciones por la muerte a manos del Ejército de 11 personas en la vereda Alto Remanso, en Puerto Leguízamo, Putumayo. >Lea más sobre las elecciones de 2022 y otras noticias del mundo político Y es que para el aspirante a la primera magistratura del Estado, resulta “preocupante” que el funcionario haya sido funcionario de confianza del presidente Iván Duque, quien a su vez es comandante supremo de las Fuerzas Armadas. “La pérdida de confianza en las instituciones está haciendo un daño a nuestra democracia. En casos como este se pone en juego la legitimidad institucional”, señaló en carta al alto tribunal. Según Fajardo, los informes divulgados el fin de semana por El Espectador, la revista Cambio y el portal Vorágine, deja dudas sobre si la operación militar adelantada por el Ejército cumplió con los estándares de Derechos Humanos y Derecho Internacional Humanitario, por lo que debe ser la administración de justicia, “como corresponde en un Estado de derecho”, la que tenga la última palabra sobre lo ocurrido. “Los periodistas (en sus informes) ponen de manifiesto una razonable preocupación: no obstante que las investigaciones deberán examinar la conducta de los militares que ordenaron y participaron en la operación, los funcionarios de la Fiscalía General de la Nación que llegaron al lugar de los hechos fueron transportados y acompañados por la Fuerza Pública”, advierte el candidato. Asimismo, recalca que -tal y como lo registran los comunicadores de los medios mencionados-, según varios testigos, miembros de la Fuerza Pública movieron los cuerpos sin vida y modificaron la escena de los hechos. “Asimismo, que miembros del Ejército están cerca de las personas de la vereda mientras que los investigadores recogen sus testimonios. En resumen, además de las dudas sobre la operación militar, se suman las dudas sobre la imparcialidad en materia de investigación”, enfatiza Fajardo en su misiva a la Corte Suprema.'},\n",
       " {'title': 'Análisis: los partidos no están fomentando la inclusión de las mujeres',\n",
       "  'relative_path': '/politica/elecciones-colombia-2022/los-partidos-no-estan-fomentando-la-inclusion-de-las-mujeres/',\n",
       "  'datetime': '11 abr. 2022  - 7:41 p.\\xa0m.',\n",
       "  'author': 'Natalia Tamayo Gaviria',\n",
       "  'summary': 'Transparencia por Colombia analizó los datos del aplicativo “Cuentas claras” sobre si los partidos están cumpliendo la destinación del 5 % de los recursos estatales en la formación de mujeres. El panorama es preocupante. ',\n",
       "  'full_text': 'Mientras de puertas para afuera los partidos sostienen un discurso pro paridad e inclusión de mujeres en los escenarios políticos y de poder, hacia dentro la situación es cuestionable. Al cierre de inscripciones para Congreso en diciembre de 2021, El Espectador alertó que, pese a los compromisos hechos en varios espacios, incluido este diario, las colectividades y coaliciones no cumplieron con listas 50-50. Esto teniendo en cuenta que hacía apenas un año se aprobó el nuevo Código Electoral, que exige la paridad en las listas de elección a corporaciones, y había un entendimiento en la opinión pública y política sobre la necesidad de que más mujeres fueran electas y, más importante aún, que su participación fuera efectiva y real. También le puede interesar: El valor de la política: estos son los montos que deja la campaña'},\n",
       " {'title': '“Son irresponsables”: Flip sobre mensajes de Enrique Gómez contra periodistas',\n",
       "  'relative_path': '/politica/elecciones-colombia-2022/son-altamente-irresponsables-flip-sobre-mensajes-de-enrique-gomez-contra-periodistas/',\n",
       "  'datetime': '11 abr. 2022  - 2:53 p.\\xa0m.',\n",
       "  'author': 'Redacción Política',\n",
       "  'summary': 'La Fundación para la Libertad de Prensa (Flip) se refirió a una serie de mensajes que publicó el candidato presidencial, en los que señaló a los reporteros que realizaron una investigación sobre el operativo en Putumayo de haber “asumido las banderas del narcotráfico”. Los mensajes, para la Flip, “buscan deslegitimar su trabajo, pero sobre todo los pone en peligro”.',\n",
       "  'full_text': 'Fueron tres los mensajes publicados por Enrique Gómez Martínez en los que despotricó del trabajo de los periodistas de El Espectador, Vorágine y Revista Cambio, que llegaron hasta la vereda Alto Remanso, ubicada en el municipio de Puerto Leguízamo, en Putumayo. El domingo se publicó la investigación con la versión de los habitantes de la vereda sobre la intervención militar que hubo el pasado 28 de marzo, en la que murieron 11 personas, entre las que había civiles y un menor de edad, en una serie de reportajes que Gómez tildó como “hipócritas”, “descontextualizados”, entre otros adjetivos. >Lea más sobre las elecciones de 2022 y otras noticias del mundo político Quizás la acusación más grave que hizo el candidato presidencial fue señalar a los seis periodistas que realizaron la investigación como cercanos al narcotráfico. “Hay una actitud hipócrita varios medios han asumido las banderas del narcotráfico en demérito de las poblaciones más vulnerables del país. El contexto con el que presentan la noticia es claramente parcializado y el ministro Molano debe manternerse y presentar sus expedientes” (sic), escribió Gómez en su cuenta de Twitter. El candidato, sobrino del político y periodista Álvaro Gómez Hurtado, en una actitud antidemocrática que rozó con la difamación rechazó el trabajo de los tres medios de comunicación, señalando que “no son juzgados ni jueces de los valientes hombres que componen las Fuerzas Armadas. El debido proceso debe darse en todas las circunstancias”. >Lea aquí la investigación de El Espectador sobre lo que pasó en Putumayo Los mensajes rápidamente fueron rechazados por la Fundación para la Libertad de Prensa (Flip), que los calificó como “estigmatizantes”. Para la entidad, “este tipo de señalamientos, infundados y que además vinculan a los periodistas con acciones ilegales como el narcotráfico, buscan deslegitimar su trabajo pero sobre todo los pone en peligro”. >LEA: Críticas y apoyo al Ejército: presidenciables sobre acción militar en Putumayo De esa forma, la Flip criticó la relación que hizo Gómez entre medios de comunicación y grupos de narcotráfico, con lo que se crea una narrativa que “desconoce la realidad”, teniendo en cuenta los históricos ataques del narcotráfico a la prensa del país. La entidad trajo a colación una sentencia de la Corte Interamericana de Derechos Humanos (Corte IDH) en la que se lee que “los diversos actores del conflicto usaron a los periodistas como objetivos por sus críticas, sus denuncias o por informar sobre temas sensibles, especialmente la violencia vinculada al narcotráfico”. De acuerdo con la Flip, “los señalamientos del candidato Enrique Gómez son altamente irresponsables, ya que ponen en peligro la integridad de los y las periodistas que trabajan en los medios a los que él hace referencia”, pues vale recordar que varios de ellos suelen hacer su trabajo en lugares riesgosos que tienen presencia de diferentes grupos armados. Y respecto a las acusaciones de que los medios de comunicación “no son juzgados ni jueces”, la entidad subrayó que Gómez está obviando la naturaleza del periodismo. “De hecho, el periodismo debe tener todas las garantías para poder investigar sobre asuntos de alto interés público, que no necesariamente llevan un proceso en la justicia”. >LEA. Senado prepara debate de control político a Mindefensa por operativo en Putumayo Desde la Flip solicitaron a la Procuraduría y al Consejo Nacional Electoral adoptar de forma urgente una estrategia para evitar la violencia electoral contra la prensa, así como adoptar sanciones frente a los responsables. Asimismo, le pidieron a Gómez rectificar los mensajes publicados y abstenerse de emitir nuevos comentarios que pongan en riesgo a periodistas y reporteros. “Un aspirante a la Presidencia debe propender porque exista un buen clima para ejercer el periodismo. Sin embargo, Gómez se aleja de esas obligaciones y pretende aleccionar sobre qué contenidos deben ser investigados”, concluyó la Flip.'}]"
      ]
     },
     "execution_count": 94,
     "metadata": {},
     "output_type": "execute_result"
    }
   ],
   "source": [
    "news"
   ]
  },
  {
   "cell_type": "code",
   "execution_count": 95,
   "metadata": {},
   "outputs": [
    {
     "data": {
      "text/plain": [
       "<pymongo.results.InsertManyResult at 0x23c5ed67010>"
      ]
     },
     "execution_count": 95,
     "metadata": {},
     "output_type": "execute_result"
    }
   ],
   "source": [
    "# Storing extracted information for further analysis\n",
    "collection.insert_many(news)"
   ]
  },
  {
   "cell_type": "code",
   "execution_count": null,
   "metadata": {},
   "outputs": [],
   "source": []
  }
 ],
 "metadata": {
  "kernelspec": {
   "display_name": "Python 3 (ipykernel)",
   "language": "python",
   "name": "python3"
  },
  "language_info": {
   "codemirror_mode": {
    "name": "ipython",
    "version": 3
   },
   "file_extension": ".py",
   "mimetype": "text/x-python",
   "name": "python",
   "nbconvert_exporter": "python",
   "pygments_lexer": "ipython3",
   "version": "3.10.2"
  }
 },
 "nbformat": 4,
 "nbformat_minor": 4
}
